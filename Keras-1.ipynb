{
 "cells": [
  {
   "cell_type": "markdown",
   "metadata": {
    "colab_type": "text",
    "deletable": false,
    "id": "pjGyBIQnQLKE",
    "nbgrader": {
     "checksum": "f511eff26871492f3fa4ae077230fe51",
     "grade": false,
     "grade_id": "cell-f77284e87f75a760",
     "locked": true,
     "schema_version": 1,
     "solution": false
    }
   },
   "source": [
    "# Health Information Systems and Decision Support Systems\n",
    "# WPO 4: - CAD Systems (20/03/2020)\n",
    "***\n",
    "*Panagiotis Gonidakis, Jakub Ceranka, Pieter Boonen, Jef Vandemeulebrouke*<br>\n",
    "*Department of Electronics and Informatics (ETRO)*<br>\n",
    "*Vrije Universiteit Brussel, Pleinlaan 2, B-1050 Brussels, Belgium*"
   ]
  },
  {
   "cell_type": "markdown",
   "metadata": {
    "colab_type": "text",
    "id": "LII3IrCfQLKI"
   },
   "source": [
    "<font color=#1337DD>\n",
    "Nathan Sennesael\n",
    "Student ID:\n",
    "UGent: 01507095<br>\n",
    "Guylian Stevens\n",
    "Student ID:\n",
    "UGent: 01206699\n",
    "\n",
    "</font>"
   ]
  },
  {
   "cell_type": "markdown",
   "metadata": {
    "colab_type": "text",
    "deletable": false,
    "id": "X2I1PHowQLKK",
    "nbgrader": {
     "checksum": "35e56d1502506c7d95a2179be1975802",
     "grade": false,
     "grade_id": "cell-1180f9385da3b954",
     "locked": true,
     "schema_version": 1,
     "solution": false
    }
   },
   "source": [
    "### Goal\n",
    "The goal of this practical session is to get an insight into artificial neural networks and convolutional neural networks. Your tasks will involve examining and preprocessing the data, training various neural networks and validating the performance of your system against the ground-truth predictions done manually by an experienced radiologist. Students must send their notebook, the image files representing the necessary graphs and the report in .ipynb and .html format. The grade from this practical session will contribute to your final grade.\n",
    "\n",
    "You are kindly requested to submit the <b> .ipynb </b>, an exported <b>.html</b> version  with all the cells properly executed and a <b>.zip</b> file containing all the <b>images</b> displaying the tensorboard training/validating curves </b>(in case are not displayed in the .ipynb).\n",
    "\n",
    "Please use the Canvas or Ufora assignment functionality to upload your reports.\n",
    "\n",
    "The deadline of the submission is in <b> 09/04/2020, 23:59 pm. </b>.\n",
    "\n",
    "If you have difficulties submitting your assignment, send it to [jceranka@etrovub.be](mailto:jceranka@etrovub.be) \n",
    "\n",
    "Questions: [jceranka@etrovub.be](mailto:jceranka@etrovub.be)"
   ]
  },
  {
   "cell_type": "markdown",
   "metadata": {
    "colab_type": "text",
    "deletable": false,
    "id": "ma5KmSRpQLKK",
    "nbgrader": {
     "checksum": "5287e4bf438bc9b077ef9f2e4bcec518",
     "grade": false,
     "grade_id": "cell-65dd4b67d3695b43",
     "locked": true,
     "schema_version": 1,
     "solution": false
    }
   },
   "source": [
    "# Libraries\n",
    "During this practical session, the following libraries will be used:\n",
    "\n",
    "* Numpy (np)\n",
    "* Glob\n",
    "* Simple ITK (sitk)\n",
    "* Matplotlib\n",
    "* Sklearn\n",
    "* Tensorflow (tf)\n",
    "* TFLearn / (you can also use keras)\n",
    "\n",
    "To import any external library, you need to import it using the **import** statement followed by the name of the library and the shortcut. You can additionally check for the module version using **version** command. \n",
    "\n",
    "* If you use your own laptop, you will need to install the two new modules. Otherwise, all the necessary software is already installed at the lab's PCs. \n",
    "\n",
    "* These expirements are simplified in order to be run without the need of a powerful GPU. However some training tasks may take 30-40 minutes using a CPU. You can accelerate your expirements if you work on [Google colab](https://colab.research.google.com/) framework where a GPU is offered. Then you need to create a GoogleDrive account and upload all the necessary data (scripts + data). \n",
    "For more information look [here](https://colab.research.google.com/) and [here](https://colab.research.google.com/notebooks/gpu.ipynb)"
   ]
  },
  {
   "cell_type": "markdown",
   "metadata": {
    "colab_type": "text",
    "deletable": false,
    "id": "x6Cl0zveQLKL",
    "nbgrader": {
     "checksum": "90dddf608397c1410372081b65393f39",
     "grade": false,
     "grade_id": "cell-cfeba9f5a5235a75",
     "locked": true,
     "schema_version": 1,
     "solution": false
    }
   },
   "source": [
    "### How to  install TFLearn\n",
    "\n",
    "TFLearn requires Tensorflow to be installed. For the purpose of this excercise you are promted to install Tensorflow with <b>CPU support only</b>.\n",
    "\n",
    "* https://www.tensorflow.org/install/ <p>\n",
    "* https://www.tensorflow.org/install/install_linux  <p>\n",
    "* https://www.tensorflow.org/install/install_mac  <p>\n",
    "* https://www.tensorflow.org/install/install_windows  <p>\n",
    "\n",
    "Then, install TFLearn: \n",
    "* http://tflearn.org/installation/\n",
    "\n",
    "Generally, open the anaconda prompt and then type:\n",
    " ```pip install tensorflow``` and after ```pip install tflearn```\n",
    " \n",
    "(*) Keep in mind that recently there is a new version of tensorflow. Depending on the python version you are working you might donwload tensorflow 1 or 2. For python 3.6, tensorflow 2.1.0 is by default is downloaded whereas for python 3.7, tensorflow 1.14.0. It is advised to verify which version it is being used before looking for any documentation as the APIs differ.\n",
    "\n",
    "(*) Alternally, if you have compatability issues or your are more familiar with keras, you can install [keras](https://keras.io/#installation) which is very similar to tflearn."
   ]
  },
  {
   "cell_type": "markdown",
   "metadata": {
    "colab_type": "text",
    "deletable": false,
    "id": "2t3pgQSkQLKM",
    "nbgrader": {
     "checksum": "8f6b761e553767615fad950fc7d54345",
     "grade": false,
     "grade_id": "cell-e04efc9902fe123b",
     "locked": true,
     "schema_version": 1,
     "solution": false
    }
   },
   "source": [
    "# Lung Nodule Analysis \n",
    "Lung cancer is the leading cause of cancer-related deaths worldwide. Screening high risk individuals for lung cancer with low-dose CT scans is now being implemented in the United States and other countries are expected to follow soon. In CT lung cancer screening, millions of CT scans will have to be analyzed, which is an enormous burden for radiologists. Therefore, there is a lot of interest in development of computer algorithms to optimize cancer screening.\n",
    "\n",
    "<img src=\"images/luna16_image.png\">\n",
    "\n",
    "A vital first step in the analysis of lung cancer CT scans is the detection of pulmonary nodules, which may or may not represent early stage lung cancer. Many Computer-Aided Detection (CAD) systems have already been proposed for this task. \n",
    "\n",
    "The LIDC/IDRI data set is publicly available, including the ground-truth annotations of nodules performed by four radiologists.\n",
    "\n",
    "This practical session is inspired from the challenge [LUNA16](https://luna16.grand-challenge.org/home/), which focused on a large-scale evaluation of automatic nodule detection algorithms on the LIDC/IDRI data set.\n",
    "\n",
    "<img src=\"images/lung_cancer1.png\">\n",
    "\n",
    "\n",
    "### Using LIDC/IDRI data set in this practical session\n",
    "\n",
    "For the needs of this practical session, we will look for an algorithm that only determines the likelihood for a given location in a CT scan to contain a pulmonary nodule. Furthermore, we have included a very small part of the LIDC/IDRI data set and we will use only a slice of suspicious regions of a CT scan.\n",
    "\n",
    "### Data augmentation\n",
    "\n",
    "Originally our dataset was very unbalanced. There were a lot samples of non-nodules (negatives) but very few samples of nodules (positives). Machine learning algorithms and specifically neural networks and convolutional neural networks require to be trained on balanced dataset, meaning all the classes should be equally represented in the training set. \n",
    "\n",
    "Using data augmentation methods (**rotation and translation**), positive samples were massively augmented in order to balance the two classes (nodules and non-nodules)\n",
    "\n",
    "### Ground Truth data\n",
    "\n",
    "Categorical data are variables that contain label values rather than numeric values. In our dataset, a sample can represent a nodule or a non-nodule area, so initially we have our ground truth data in a categorical form. Many machine learning algorithms cannot operate on label data directly. They require all input variables to be numeric. This means that categorical data must be converted to a numerical form. This involves two steps:\n",
    "1. Integer Encoding\n",
    "2. One-Hot Encoding.\n",
    "\n",
    "As a first step, each unique category value is assigned an integer value. That's why in our dataset, a sample which represents a nodule will have as a label **1** and a sample which represents a non-nodule area will have as a label **0**.\n",
    "\n",
    "For our case, this enconding step would be enough since we have only two categories. However, in a more general problem with more than two classes, using this encoding allows the model to assume a natural ordering between categories which may result in poor performance or unexpected results. That's why, one hot encoding can be appled to the integer representation. This is where the integer encoded variable is removed and a new binary variable is added for each unique integer value. \n",
    "\n",
    "Therefore, a  nodule will be represented by the binary variable [1,0] and a non-nodule area by the binary variable [0,1].\n",
    "\n",
    "<img src=\"images/lung_cancer2.png\">\n"
   ]
  },
  {
   "cell_type": "markdown",
   "metadata": {
    "colab_type": "text",
    "deletable": false,
    "id": "IZ4Wcf3AQLKN",
    "nbgrader": {
     "checksum": "77b5ce922c11056fda2cc0a605361876",
     "grade": false,
     "grade_id": "cell-88edf7d56c17540b",
     "locked": true,
     "schema_version": 1,
     "solution": false
    }
   },
   "source": [
    "# Part 1: Visualize, load and prepare data for Machine Learning Algorithms\n",
    "\n",
    "CT images are stored in MetaImage (mhd/raw) format. Each .mhd file is stored with as a header file (.mhd) and a corresponding pixeldata file (.raw). To load a CT image, just **load the .mhd header file** and data from the binary .raw file will be automatically loaded.\n",
    "\n",
    "If you look carefully at the name of each .mhd file, you can extract useful information for a specific sample. You can identify its **number id**, its **size**, if the image was produced by a **data augmentation** method and if it contains a **nodule or not**.\n",
    "\n",
    "For example: *20046_x0y0z0_20x20x6_r0_1.mhd*\n",
    "* **20046**:   number of candidate patch\n",
    "* **x0y0z0**: no translation in any axis (if augmentation is used it is mentioned by the angle in the corresponding axis)\n",
    "* **20x20x6**: size of the image in voxels\n",
    "* **r0**:     no rotation\n",
    "* **1**:      it is a positive sample - represents a nodule\n",
    "* **.mhd**:   it is a mhd file (this is the file which can be loaded)"
   ]
  },
  {
   "cell_type": "markdown",
   "metadata": {
    "colab_type": "text",
    "deletable": false,
    "id": "lRorxH-sQLKO",
    "nbgrader": {
     "checksum": "eaa451a946fc33d891799f2910eb06af",
     "grade": false,
     "grade_id": "cell-6e65384d14dac861",
     "locked": true,
     "schema_version": 1,
     "solution": false
    }
   },
   "source": [
    "### Task 1: Import necessary libraries\n",
    "\n",
    "Load all necessary libraries using the **import** statement and check for errors."
   ]
  },
  {
   "cell_type": "code",
   "execution_count": 10,
   "metadata": {
    "colab": {
     "base_uri": "https://localhost:8080/",
     "height": 267
    },
    "colab_type": "code",
    "executionInfo": {
     "elapsed": 2638,
     "status": "ok",
     "timestamp": 1585224794551,
     "user": {
      "displayName": "Natjimo",
      "photoUrl": "https://lh3.googleusercontent.com/a-/AOh14GizbcX8_Par6fx9QL0VZhG82fyBJ_d2xx-uC_L6sg=s64",
      "userId": "10315586945830338155"
     },
     "user_tz": -60
    },
    "id": "YYCHuzrtRTmr",
    "outputId": "6e0a62c7-4aa7-4e51-fab9-eebd51db58e6"
   },
   "outputs": [],
   "source": [
    "import warnings\n",
    "warnings.simplefilter(action='ignore', category=FutureWarning)\n",
    "import matplotlib.pyplot as plt\n",
    "import numpy as np\n",
    "import glob\n",
    "import tensorflow as tf\n",
    "import SimpleITK as sitk\n",
    "import re\n"
   ]
  },
  {
   "cell_type": "markdown",
   "metadata": {
    "colab_type": "text",
    "deletable": false,
    "id": "jfWqk5EGQLKS",
    "nbgrader": {
     "checksum": "945c2ee4613c085addad9e466a2e2d03",
     "grade": false,
     "grade_id": "cell-1f6fe6d45fa0e86d",
     "locked": true,
     "schema_version": 1,
     "solution": false
    }
   },
   "source": [
    "### Task 2: Inspect the dataset\n",
    "\n",
    "1. Using SimpleITK, create a function to load .mhd files (__Tip:__ The function should return a numpy array - sitk.GetArrayFromImage( ) )\n",
    "2. Visualize the 6 slices of a chosen patch using matplotlib subplot figure and mention if it is a positive or a negative patch.\n",
    "3. Visualize some augmented samples from the same candidate region using matplotlib subplot of the same patch and mention the augmentation method. Check visually if the observed patch was modified using the same augmentation method that is mentioned in the samples' filename.\n",
    "4. Count your files. How many positives and negatives there are in this dataset? (__Tip:__ Use glob library to get the number of specific files in your dataset)"
   ]
  },
  {
   "cell_type": "code",
   "execution_count": 11,
   "metadata": {
    "colab": {},
    "colab_type": "code",
    "id": "n4w6X9TodkeZ"
   },
   "outputs": [],
   "source": [
    "#Import the ct images\n",
    "def load_itk(filename):\n",
    "    # Reads the image using SimpleITK\n",
    "    itkimage = sitk.ReadImage(filename)\n",
    "\n",
    "    #Convert the image to a  numpy array first and then shuffle the dimensions to get axis in the order z,y,x\n",
    "    ct_scan = sitk.GetArrayFromImage(itkimage)\n",
    "\n",
    "    # Read the origin of the ct_scan, will be used to convert the coordinates from world to voxel and vice versa.\n",
    "    origin = np.array(list(reversed(itkimage.GetOrigin())))\n",
    "\n",
    "    # Read the spacing along each dimension\n",
    "    spacing = np.array(list(reversed(itkimage.GetSpacing())))\n",
    "\n",
    "    return ct_scan"
   ]
  },
  {
   "cell_type": "code",
   "execution_count": 12,
   "metadata": {
    "colab": {
     "base_uri": "https://localhost:8080/",
     "height": 190
    },
    "colab_type": "code",
    "executionInfo": {
     "elapsed": 807,
     "status": "ok",
     "timestamp": 1585224497654,
     "user": {
      "displayName": "Natjimo",
      "photoUrl": "https://lh3.googleusercontent.com/a-/AOh14GizbcX8_Par6fx9QL0VZhG82fyBJ_d2xx-uC_L6sg=s64",
      "userId": "10315586945830338155"
     },
     "user_tz": -60
    },
    "id": "nFpEaTDVdtxn",
    "outputId": "c3e6d707-b942-4b8b-b3a9-87c6ae2479e2"
   },
   "outputs": [
    {
     "name": "stderr",
     "output_type": "stream",
     "text": [
      "ERROR:root:Internal Python error in the inspect module.\n",
      "Below is the traceback from this internal error.\n",
      "\n"
     ]
    },
    {
     "name": "stdout",
     "output_type": "stream",
     "text": [
      "Traceback (most recent call last):\n",
      "  File \"C:\\Users\\HOCUSPOCUS\\Anaconda3\\lib\\site-packages\\IPython\\core\\interactiveshell.py\", line 3326, in run_code\n",
      "    exec(code_obj, self.user_global_ns, self.user_ns)\n",
      "  File \"<ipython-input-12-517306a25469>\", line 1, in <module>\n",
      "    Patient_scan=load_itk('/Documents/prac4/Practicum4/MiniLunaDataset3/155899_x0y0z0_20x20x6_f0_1.mhd')\n",
      "  File \"<ipython-input-11-e3b2447d839a>\", line 4, in load_itk\n",
      "    itkimage = sitk.ReadImage(filename)\n",
      "  File \"C:\\Users\\HOCUSPOCUS\\Anaconda3\\lib\\site-packages\\SimpleITK\\SimpleITK.py\", line 8876, in ReadImage\n",
      "    return _SimpleITK.ReadImage(*args)\n",
      "RuntimeError: Exception thrown in SimpleITK ReadImage: D:\\a\\1\\sitk\\Code\\IO\\src\\sitkImageReaderBase.cxx:99:\n",
      "sitk::ERROR: The file \"/Documents/prac4/Practicum4/MiniLunaDataset3/155899_x0y0z0_20x20x6_f0_1.mhd\" does not exist.\n",
      "\n",
      "During handling of the above exception, another exception occurred:\n",
      "\n",
      "Traceback (most recent call last):\n",
      "  File \"C:\\Users\\HOCUSPOCUS\\Anaconda3\\lib\\site-packages\\IPython\\core\\interactiveshell.py\", line 2040, in showtraceback\n",
      "    stb = value._render_traceback_()\n",
      "AttributeError: 'RuntimeError' object has no attribute '_render_traceback_'\n",
      "\n",
      "During handling of the above exception, another exception occurred:\n",
      "\n",
      "Traceback (most recent call last):\n",
      "  File \"C:\\Users\\HOCUSPOCUS\\Anaconda3\\lib\\site-packages\\tensorflow_core\\python\\pywrap_tensorflow.py\", line 58, in <module>\n",
      "    from tensorflow.python.pywrap_tensorflow_internal import *\n",
      "  File \"C:\\Users\\HOCUSPOCUS\\Anaconda3\\lib\\site-packages\\tensorflow_core\\python\\pywrap_tensorflow_internal.py\", line 28, in <module>\n",
      "    _pywrap_tensorflow_internal = swig_import_helper()\n",
      "  File \"C:\\Users\\HOCUSPOCUS\\Anaconda3\\lib\\site-packages\\tensorflow_core\\python\\pywrap_tensorflow_internal.py\", line 24, in swig_import_helper\n",
      "    _mod = imp.load_module('_pywrap_tensorflow_internal', fp, pathname, description)\n",
      "  File \"C:\\Users\\HOCUSPOCUS\\Anaconda3\\lib\\imp.py\", line 242, in load_module\n",
      "    return load_dynamic(name, filename, file)\n",
      "  File \"C:\\Users\\HOCUSPOCUS\\Anaconda3\\lib\\imp.py\", line 342, in load_dynamic\n",
      "    return _load(spec)\n",
      "ImportError: DLL load failed: Kan opgegeven module niet vinden.\n",
      "\n",
      "During handling of the above exception, another exception occurred:\n",
      "\n",
      "Traceback (most recent call last):\n",
      "  File \"C:\\Users\\HOCUSPOCUS\\Anaconda3\\lib\\site-packages\\IPython\\core\\ultratb.py\", line 1101, in get_records\n",
      "    return _fixed_getinnerframes(etb, number_of_lines_of_context, tb_offset)\n",
      "  File \"C:\\Users\\HOCUSPOCUS\\Anaconda3\\lib\\site-packages\\IPython\\core\\ultratb.py\", line 319, in wrapped\n",
      "    return f(*args, **kwargs)\n",
      "  File \"C:\\Users\\HOCUSPOCUS\\Anaconda3\\lib\\site-packages\\IPython\\core\\ultratb.py\", line 353, in _fixed_getinnerframes\n",
      "    records = fix_frame_records_filenames(inspect.getinnerframes(etb, context))\n",
      "  File \"C:\\Users\\HOCUSPOCUS\\Anaconda3\\lib\\inspect.py\", line 1502, in getinnerframes\n",
      "    frameinfo = (tb.tb_frame,) + getframeinfo(tb, context)\n",
      "  File \"C:\\Users\\HOCUSPOCUS\\Anaconda3\\lib\\inspect.py\", line 1460, in getframeinfo\n",
      "    filename = getsourcefile(frame) or getfile(frame)\n",
      "  File \"C:\\Users\\HOCUSPOCUS\\Anaconda3\\lib\\inspect.py\", line 696, in getsourcefile\n",
      "    if getattr(getmodule(object, filename), '__loader__', None) is not None:\n",
      "  File \"C:\\Users\\HOCUSPOCUS\\Anaconda3\\lib\\inspect.py\", line 733, in getmodule\n",
      "    if ismodule(module) and hasattr(module, '__file__'):\n",
      "  File \"C:\\Users\\HOCUSPOCUS\\Anaconda3\\lib\\site-packages\\tensorflow\\__init__.py\", line 50, in __getattr__\n",
      "    module = self._load()\n",
      "  File \"C:\\Users\\HOCUSPOCUS\\Anaconda3\\lib\\site-packages\\tensorflow\\__init__.py\", line 44, in _load\n",
      "    module = _importlib.import_module(self.__name__)\n",
      "  File \"C:\\Users\\HOCUSPOCUS\\Anaconda3\\lib\\importlib\\__init__.py\", line 127, in import_module\n",
      "    return _bootstrap._gcd_import(name[level:], package, level)\n",
      "  File \"<frozen importlib._bootstrap>\", line 1006, in _gcd_import\n",
      "  File \"<frozen importlib._bootstrap>\", line 983, in _find_and_load\n",
      "  File \"<frozen importlib._bootstrap>\", line 953, in _find_and_load_unlocked\n",
      "  File \"<frozen importlib._bootstrap>\", line 219, in _call_with_frames_removed\n",
      "  File \"<frozen importlib._bootstrap>\", line 1006, in _gcd_import\n",
      "  File \"<frozen importlib._bootstrap>\", line 983, in _find_and_load\n",
      "  File \"<frozen importlib._bootstrap>\", line 967, in _find_and_load_unlocked\n",
      "  File \"<frozen importlib._bootstrap>\", line 677, in _load_unlocked\n",
      "  File \"<frozen importlib._bootstrap_external>\", line 728, in exec_module\n",
      "  File \"<frozen importlib._bootstrap>\", line 219, in _call_with_frames_removed\n",
      "  File \"C:\\Users\\HOCUSPOCUS\\Anaconda3\\lib\\site-packages\\tensorflow_core\\__init__.py\", line 42, in <module>\n",
      "    from . _api.v2 import audio\n",
      "  File \"C:\\Users\\HOCUSPOCUS\\Anaconda3\\lib\\site-packages\\tensorflow_core\\_api\\v2\\audio\\__init__.py\", line 10, in <module>\n",
      "    from tensorflow.python.ops.gen_audio_ops import decode_wav\n",
      "  File \"C:\\Users\\HOCUSPOCUS\\Anaconda3\\lib\\site-packages\\tensorflow_core\\python\\ops\\gen_audio_ops.py\", line 9, in <module>\n",
      "    from tensorflow.python import pywrap_tensorflow as _pywrap_tensorflow\n",
      "  File \"C:\\Users\\HOCUSPOCUS\\Anaconda3\\lib\\site-packages\\tensorflow\\__init__.py\", line 50, in __getattr__\n",
      "    module = self._load()\n",
      "  File \"C:\\Users\\HOCUSPOCUS\\Anaconda3\\lib\\site-packages\\tensorflow\\__init__.py\", line 44, in _load\n",
      "    module = _importlib.import_module(self.__name__)\n",
      "  File \"C:\\Users\\HOCUSPOCUS\\Anaconda3\\lib\\importlib\\__init__.py\", line 127, in import_module\n",
      "    return _bootstrap._gcd_import(name[level:], package, level)\n",
      "  File \"C:\\Users\\HOCUSPOCUS\\Anaconda3\\lib\\site-packages\\tensorflow_core\\python\\__init__.py\", line 49, in <module>\n",
      "    from tensorflow.python import pywrap_tensorflow\n",
      "  File \"C:\\Users\\HOCUSPOCUS\\Anaconda3\\lib\\site-packages\\tensorflow_core\\python\\pywrap_tensorflow.py\", line 74, in <module>\n",
      "    raise ImportError(msg)\n",
      "ImportError: Traceback (most recent call last):\n",
      "  File \"C:\\Users\\HOCUSPOCUS\\Anaconda3\\lib\\site-packages\\IPython\\core\\interactiveshell.py\", line 3326, in run_code\n",
      "    exec(code_obj, self.user_global_ns, self.user_ns)\n",
      "  File \"<ipython-input-12-517306a25469>\", line 1, in <module>\n",
      "    Patient_scan=load_itk('/Documents/prac4/Practicum4/MiniLunaDataset3/155899_x0y0z0_20x20x6_f0_1.mhd')\n",
      "  File \"<ipython-input-11-e3b2447d839a>\", line 4, in load_itk\n",
      "    itkimage = sitk.ReadImage(filename)\n",
      "  File \"C:\\Users\\HOCUSPOCUS\\Anaconda3\\lib\\site-packages\\SimpleITK\\SimpleITK.py\", line 8876, in ReadImage\n",
      "    return _SimpleITK.ReadImage(*args)\n",
      "RuntimeError: Exception thrown in SimpleITK ReadImage: D:\\a\\1\\sitk\\Code\\IO\\src\\sitkImageReaderBase.cxx:99:\n",
      "sitk::ERROR: The file \"/Documents/prac4/Practicum4/MiniLunaDataset3/155899_x0y0z0_20x20x6_f0_1.mhd\" does not exist.\n",
      "\n",
      "During handling of the above exception, another exception occurred:\n",
      "\n",
      "Traceback (most recent call last):\n",
      "  File \"C:\\Users\\HOCUSPOCUS\\Anaconda3\\lib\\site-packages\\IPython\\core\\interactiveshell.py\", line 2040, in showtraceback\n",
      "    stb = value._render_traceback_()\n",
      "AttributeError: 'RuntimeError' object has no attribute '_render_traceback_'\n",
      "\n",
      "During handling of the above exception, another exception occurred:\n",
      "\n",
      "Traceback (most recent call last):\n",
      "  File \"C:\\Users\\HOCUSPOCUS\\Anaconda3\\lib\\site-packages\\tensorflow_core\\python\\pywrap_tensorflow.py\", line 58, in <module>\n",
      "    from tensorflow.python.pywrap_tensorflow_internal import *\n",
      "  File \"C:\\Users\\HOCUSPOCUS\\Anaconda3\\lib\\site-packages\\tensorflow_core\\python\\pywrap_tensorflow_internal.py\", line 28, in <module>\n",
      "    _pywrap_tensorflow_internal = swig_import_helper()\n",
      "  File \"C:\\Users\\HOCUSPOCUS\\Anaconda3\\lib\\site-packages\\tensorflow_core\\python\\pywrap_tensorflow_internal.py\", line 24, in swig_import_helper\n",
      "    _mod = imp.load_module('_pywrap_tensorflow_internal', fp, pathname, description)\n",
      "  File \"C:\\Users\\HOCUSPOCUS\\Anaconda3\\lib\\imp.py\", line 242, in load_module\n",
      "    return load_dynamic(name, filename, file)\n",
      "  File \"C:\\Users\\HOCUSPOCUS\\Anaconda3\\lib\\imp.py\", line 342, in load_dynamic\n",
      "    return _load(spec)\n",
      "ImportError: DLL load failed: Kan opgegeven module niet vinden.\n",
      "\n",
      "\n",
      "Failed to load the native TensorFlow runtime.\n",
      "\n",
      "See https://www.tensorflow.org/install/errors\n",
      "\n",
      "for some common reasons and solutions.  Include the entire stack trace\n",
      "above this error message when asking for help.\n"
     ]
    },
    {
     "ename": "RuntimeError",
     "evalue": "Exception thrown in SimpleITK ReadImage: D:\\a\\1\\sitk\\Code\\IO\\src\\sitkImageReaderBase.cxx:99:\nsitk::ERROR: The file \"/Documents/prac4/Practicum4/MiniLunaDataset3/155899_x0y0z0_20x20x6_f0_1.mhd\" does not exist.",
     "output_type": "error",
     "traceback": [
      "\u001b[1;31m---------------------------------------------------------------------------\u001b[0m"
     ]
    }
   ],
   "source": [
    "Patient_scan=load_itk('/Documents/prac4/Practicum4/MiniLunaDataset3/155899_x0y0z0_20x20x6_f0_1.mhd')\n",
    "\n",
    "plt.figure(figsize=(10,8))\n",
    "plt.gray()\n",
    "plt.subplots_adjust(0,0,1,1,0.01,0.01)\n",
    "for i in range(Patient_scan.shape[0]):\n",
    "    plt.subplot(5,6,i+1)\n",
    "    plt.imshow(Patient_scan[i])\n",
    "    plt.axis('off')\n",
    "    plt.suptitle(\"Patch - 155899, positive patch, no augmentation\", x=0.5, y=0.75, size=16)\n",
    "plt.show()"
   ]
  },
  {
   "cell_type": "code",
   "execution_count": 4,
   "metadata": {
    "colab": {
     "base_uri": "https://localhost:8080/",
     "height": 190
    },
    "colab_type": "code",
    "executionInfo": {
     "elapsed": 642,
     "status": "ok",
     "timestamp": 1585224498510,
     "user": {
      "displayName": "Natjimo",
      "photoUrl": "https://lh3.googleusercontent.com/a-/AOh14GizbcX8_Par6fx9QL0VZhG82fyBJ_d2xx-uC_L6sg=s64",
      "userId": "10315586945830338155"
     },
     "user_tz": -60
    },
    "id": "gxxwR96rdt0R",
    "outputId": "73b3de80-246a-4f88-c41f-7d5ad9d6896f"
   },
   "outputs": [
    {
     "data": {
      "image/png": "[encoded data removed]",
      "text/plain": [
       "<Figure size 720x576 with 6 Axes>"
      ]
     },
     "metadata": {
      "needs_background": "light"
     },
     "output_type": "display_data"
    }
   ],
   "source": [
    "Patient_scan=load_itk('/Documents/prac4/Practicum4//MiniLunaDataset3/155899_x0y0z0_20x20x6_r180_1.mhd')\n",
    "\n",
    "plt.figure(figsize=(10,8))\n",
    "plt.gray()\n",
    "plt.subplots_adjust(0,0,1,1,0.01,0.01)\n",
    "for i in range(Patient_scan.shape[0]):\n",
    "    plt.subplot(5,6,i+1)\n",
    "    plt.imshow(Patient_scan[i])\n",
    "    plt.axis('off')\n",
    "    plt.suptitle(\"Patch - 155899, positive patch, rotation over 180° \", x=0.5, y=0.75, size=16)\n",
    "plt.show()"
   ]
  },
  {
   "cell_type": "code",
   "execution_count": 5,
   "metadata": {
    "colab": {
     "base_uri": "https://localhost:8080/",
     "height": 190
    },
    "colab_type": "code",
    "executionInfo": {
     "elapsed": 649,
     "status": "ok",
     "timestamp": 1585224499081,
     "user": {
      "displayName": "Natjimo",
      "photoUrl": "https://lh3.googleusercontent.com/a-/AOh14GizbcX8_Par6fx9QL0VZhG82fyBJ_d2xx-uC_L6sg=s64",
      "userId": "10315586945830338155"
     },
     "user_tz": -60
    },
    "id": "Pvx98c1fdt2j",
    "outputId": "1c35dfc3-e116-4743-c48d-7793690c828a"
   },
   "outputs": [
    {
     "data": {
      "image/png": "[encoded data removed]",
      "text/plain": [
       "<Figure size 720x576 with 6 Axes>"
      ]
     },
     "metadata": {
      "needs_background": "light"
     },
     "output_type": "display_data"
    }
   ],
   "source": [
    "Patient_scan=load_itk('/home/nathan/Desktop/WPO4/MiniLunaDataset3/155899_x0y0z0_20x20x6_q180_1.mhd')\n",
    "\n",
    "plt.figure(figsize=(10,8))\n",
    "plt.gray()\n",
    "plt.subplots_adjust(0,0,1,1,0.01,0.01)\n",
    "for i in range(Patient_scan.shape[0]):\n",
    "    plt.subplot(5,6,i+1)\n",
    "    plt.imshow(Patient_scan[i])\n",
    "    plt.axis('off')\n",
    "    plt.suptitle(\"Patch - 155899, positive patch, flip of images  \", x=0.5, y=0.75, size=16)\n",
    "plt.show()"
   ]
  },
  {
   "cell_type": "code",
   "execution_count": 6,
   "metadata": {
    "colab": {
     "base_uri": "https://localhost:8080/",
     "height": 190
    },
    "colab_type": "code",
    "executionInfo": {
     "elapsed": 805,
     "status": "ok",
     "timestamp": 1585224499770,
     "user": {
      "displayName": "Natjimo",
      "photoUrl": "https://lh3.googleusercontent.com/a-/AOh14GizbcX8_Par6fx9QL0VZhG82fyBJ_d2xx-uC_L6sg=s64",
      "userId": "10315586945830338155"
     },
     "user_tz": -60
    },
    "id": "Vw3MEdy1elfA",
    "outputId": "80c6014b-0d55-4288-d2a8-dec448278560"
   },
   "outputs": [
    {
     "data": {
      "image/png": "[encoded data removed]",
      "text/plain": [
       "<Figure size 720x576 with 6 Axes>"
      ]
     },
     "metadata": {
      "needs_background": "light"
     },
     "output_type": "display_data"
    }
   ],
   "source": [
    "Patient_scan=load_itk('/home/nathan/Desktop/WPO4/MiniLunaDataset3/155899_x0y0z0_20x20x6_f180_1.mhd')\n",
    "\n",
    "plt.figure(figsize=(10,8))\n",
    "plt.gray()\n",
    "plt.subplots_adjust(0,0,1,1,0.01,0.01)\n",
    "for i in range(Patient_scan.shape[0]):\n",
    "    plt.subplot(5,6,i+1)\n",
    "    plt.imshow(Patient_scan[i])\n",
    "    plt.axis('off')\n",
    "    plt.suptitle(\"Patch - 155899, positive patch, vertical flip over 180° \", x=0.5, y=0.75, size=16)\n",
    "plt.show()"
   ]
  },
  {
   "cell_type": "code",
   "execution_count": 7,
   "metadata": {
    "colab": {
     "base_uri": "https://localhost:8080/",
     "height": 68
    },
    "colab_type": "code",
    "executionInfo": {
     "elapsed": 445,
     "status": "ok",
     "timestamp": 1585224501715,
     "user": {
      "displayName": "Natjimo",
      "photoUrl": "https://lh3.googleusercontent.com/a-/AOh14GizbcX8_Par6fx9QL0VZhG82fyBJ_d2xx-uC_L6sg=s64",
      "userId": "10315586945830338155"
     },
     "user_tz": -60
    },
    "id": "mr36L7Wielhd",
    "outputId": "73ba9c0b-e3a3-46f3-c967-b34913dc1ea7"
   },
   "outputs": [
    {
     "name": "stdout",
     "output_type": "stream",
     "text": [
      "Number of Files :       2315\n",
      "Number of Positives :   1101\n",
      "Number of Negatives :   1214\n"
     ]
    }
   ],
   "source": [
    "dir_name = '/home/nathan/Desktop/WPO4/MiniLunaDataset3/'\n",
    "file_count =  glob.glob(dir_name+'*.mhd*')\n",
    "pos_count = glob.glob(dir_name+'*1.mhd*')\n",
    "neg_count = glob.glob(dir_name+'*0.mhd*')\n",
    "\n",
    "print(\"Number of Files :      \", len(file_count))\n",
    "print(\"Number of Positives :  \", len(pos_count))\n",
    "print(\"Number of Negatives :  \", len(neg_count))"
   ]
  },
  {
   "cell_type": "markdown",
   "metadata": {
    "colab_type": "text",
    "deletable": false,
    "id": "zT3Jws54QLKW",
    "nbgrader": {
     "checksum": "dcf46ab947dd55a873e1469c775a2f59",
     "grade": false,
     "grade_id": "cell-d9e7fbe181dfe944",
     "locked": true,
     "schema_version": 1,
     "solution": false
    }
   },
   "source": [
    "### Task 3: Data pre-processing\n",
    "In order to use neural-networks, we need to pre-process the data and store it in a way which can be easily interpreted by tensorflow.\n",
    "\n",
    "First of all, separate the test set from the train set. Keep 10% of your samples as a test-set. (**Tip:** Use sklearn **train_test_split** function.)\n",
    "\n",
    "Since 3D CNNs need a lot of computation power, we will convert our problem to 2D. Instead of using all the 6 CT slices, we will use only the 3rd CT slice. Therefore, from each sample, the 3rd slice wiil be extracted and further preprocessed. In addition, our values currently range from -1024 HU to around 2000 HU. Anything above 400 is not interesting to us, as these are simply bones with different radiodensity. A commonly used set of thresholds to normalize between is -1000 and 400. Finally the labels will be properly encoded to be used for training and testing.\n",
    "\n",
    "Write your pre-processing tasks as python functions (listed below) and in the end create a pipeline for each sample which will be also implemented as a function.\n",
    "1. Function loading the .mhd image as a numpy array.\n",
    "2. Function extracting the 3rd slice of a patch. The final form of patches should be a numpy array of size **20x20** pixels.\n",
    "3. Function normalizing the dataset.\n",
    "The unit of measurement in CT scans is the **Hounsfield Unit (HU)**, which is a measure of radiodensity. CT scanners are carefully calibrated to accurately measure this. From Wikipedia:\n",
    "<img src=\"/images/HU_CTscannersCalibration.png\">\n",
    "\n",
    "    Create a function which is going to normalize the samples according to this table \n",
    "        * Create numpy arrays \n",
    "        * Normalize between [-1000, 400] using this normalization method \n",
    "    $npzarray = (npzarray - minHU) / (maxHU - minHU)$ <br>\n",
    "         where minHU = -1000 and maxHU = 400\n",
    "        * After this normalization set any values bigger than 1 to 1 and any values smaller than 0 to 0. \n",
    "\n",
    "4. If statement creating **1-hot** labels as a ground truth data in order to train the neural networks. (One-hot labels: [0,1] --> negative, [1,0]--> positive)\n",
    " \n",
    "5. Store into .npy data binary files. (__Tip:__ Use np.save to store data.)\n",
    "\n",
    "\n",
    "The pipeline should execute the functions as follows: <br>\n",
    "Load mhd using sitk -> normalize -> Extract 3rd slice -> Label \n",
    "\n",
    "and return:\n",
    "* data:  [sample_idx,20,20]\n",
    "* labels: [sample_idx,2]\n",
    "\n",
    "Data pre-processing should be done for both: train and test set."
   ]
  },
  {
   "cell_type": "code",
   "execution_count": 8,
   "metadata": {
    "colab": {
     "base_uri": "https://localhost:8080/",
     "height": 438
    },
    "colab_type": "code",
    "executionInfo": {
     "elapsed": 31328,
     "status": "error",
     "timestamp": 1585222252754,
     "user": {
      "displayName": "Natjimo",
      "photoUrl": "https://lh3.googleusercontent.com/a-/AOh14GizbcX8_Par6fx9QL0VZhG82fyBJ_d2xx-uC_L6sg=s64",
      "userId": "10315586945830338155"
     },
     "user_tz": -60
    },
    "id": "0PtM9AKzQLKX",
    "outputId": "8b0eef9a-e2cd-4246-843e-0073e4e170d2"
   },
   "outputs": [],
   "source": [
    "#Create functions\n",
    "\n",
    "def select_scan(Patient_scan):\n",
    "    Data_scan=Patient_scan[3]\n",
    "    return Data_scan\n",
    "\n",
    "\n",
    "def normalize(Data_scan):\n",
    "    minHU= -100\n",
    "    maxHU= 400\n",
    "    \n",
    "    Data_scan = (Data_scan - minHU) / (maxHU - minHU)\n",
    "    Data_scan[Data_scan > 1] = 1\n",
    "    Data_scan[Data_scan < 0] = 0\n",
    "    return Data_scan\n",
    "\n",
    "#create list with labels for all patches\n",
    "def labeling(filename):\n",
    "    k=0\n",
    "    if \"_1.mhd\" in filename:\n",
    "        labeled=[1,0]\n",
    "        print(1)\n",
    "        k=1\n",
    "    if \"_0.mhd\" in filename:\n",
    "        labeled=[0,1]\n",
    "        print(0)\n",
    "        k=1\n",
    "    if k==0:\n",
    "        print('ERROR')\n",
    "        \n",
    "    return labeled\n",
    "\n",
    "\n",
    "def save(Data, label, filename):\n",
    "    index = re.findall(\"MiniLunaDataset3/(\\d+)_\", filename)\n",
    "    datastring = \"sample_{}_20_20.npy\".format(index)\n",
    "    labelstring= \"sample_{}_2.npy\".format(index)\n",
    "    np.save(datastring,Data)\n",
    "    np.save(labelstring,label)"
   ]
  },
  {
   "cell_type": "code",
   "execution_count": 9,
   "metadata": {},
   "outputs": [],
   "source": [
    "file_count =  glob.glob(dir_name+'*.mhd*')"
   ]
  },
  {
   "cell_type": "code",
   "execution_count": 9,
   "metadata": {
    "scrolled": true
   },
   "outputs": [
    {
     "name": "stderr",
     "output_type": "stream",
     "text": [
      "ERROR:root:Internal Python error in the inspect module.\n",
      "Below is the traceback from this internal error.\n",
      "\n"
     ]
    },
    {
     "name": "stdout",
     "output_type": "stream",
     "text": [
      "Traceback (most recent call last):\n",
      "  File \"C:\\Users\\HOCUSPOCUS\\Anaconda3\\lib\\site-packages\\IPython\\core\\interactiveshell.py\", line 3326, in run_code\n",
      "    exec(code_obj, self.user_global_ns, self.user_ns)\n",
      "  File \"<ipython-input-9-82017403d67c>\", line 4, in <module>\n",
      "    for filename in file_count:\n",
      "NameError: name 'file_count' is not defined\n",
      "\n",
      "During handling of the above exception, another exception occurred:\n",
      "\n",
      "Traceback (most recent call last):\n",
      "  File \"C:\\Users\\HOCUSPOCUS\\Anaconda3\\lib\\site-packages\\IPython\\core\\interactiveshell.py\", line 2040, in showtraceback\n",
      "    stb = value._render_traceback_()\n",
      "AttributeError: 'NameError' object has no attribute '_render_traceback_'\n",
      "\n",
      "During handling of the above exception, another exception occurred:\n",
      "\n",
      "Traceback (most recent call last):\n",
      "  File \"C:\\Users\\HOCUSPOCUS\\Anaconda3\\lib\\site-packages\\tensorflow_core\\python\\pywrap_tensorflow.py\", line 58, in <module>\n",
      "    from tensorflow.python.pywrap_tensorflow_internal import *\n",
      "  File \"C:\\Users\\HOCUSPOCUS\\Anaconda3\\lib\\site-packages\\tensorflow_core\\python\\pywrap_tensorflow_internal.py\", line 28, in <module>\n",
      "    _pywrap_tensorflow_internal = swig_import_helper()\n",
      "  File \"C:\\Users\\HOCUSPOCUS\\Anaconda3\\lib\\site-packages\\tensorflow_core\\python\\pywrap_tensorflow_internal.py\", line 24, in swig_import_helper\n",
      "    _mod = imp.load_module('_pywrap_tensorflow_internal', fp, pathname, description)\n",
      "  File \"C:\\Users\\HOCUSPOCUS\\Anaconda3\\lib\\imp.py\", line 242, in load_module\n",
      "    return load_dynamic(name, filename, file)\n",
      "  File \"C:\\Users\\HOCUSPOCUS\\Anaconda3\\lib\\imp.py\", line 342, in load_dynamic\n",
      "    return _load(spec)\n",
      "ImportError: DLL load failed: Kan opgegeven module niet vinden.\n",
      "\n",
      "During handling of the above exception, another exception occurred:\n",
      "\n",
      "Traceback (most recent call last):\n",
      "  File \"C:\\Users\\HOCUSPOCUS\\Anaconda3\\lib\\site-packages\\IPython\\core\\ultratb.py\", line 1101, in get_records\n",
      "    return _fixed_getinnerframes(etb, number_of_lines_of_context, tb_offset)\n",
      "  File \"C:\\Users\\HOCUSPOCUS\\Anaconda3\\lib\\site-packages\\IPython\\core\\ultratb.py\", line 319, in wrapped\n",
      "    return f(*args, **kwargs)\n",
      "  File \"C:\\Users\\HOCUSPOCUS\\Anaconda3\\lib\\site-packages\\IPython\\core\\ultratb.py\", line 353, in _fixed_getinnerframes\n",
      "    records = fix_frame_records_filenames(inspect.getinnerframes(etb, context))\n",
      "  File \"C:\\Users\\HOCUSPOCUS\\Anaconda3\\lib\\inspect.py\", line 1502, in getinnerframes\n",
      "    frameinfo = (tb.tb_frame,) + getframeinfo(tb, context)\n",
      "  File \"C:\\Users\\HOCUSPOCUS\\Anaconda3\\lib\\inspect.py\", line 1460, in getframeinfo\n",
      "    filename = getsourcefile(frame) or getfile(frame)\n",
      "  File \"C:\\Users\\HOCUSPOCUS\\Anaconda3\\lib\\inspect.py\", line 696, in getsourcefile\n",
      "    if getattr(getmodule(object, filename), '__loader__', None) is not None:\n",
      "  File \"C:\\Users\\HOCUSPOCUS\\Anaconda3\\lib\\inspect.py\", line 733, in getmodule\n",
      "    if ismodule(module) and hasattr(module, '__file__'):\n",
      "  File \"C:\\Users\\HOCUSPOCUS\\Anaconda3\\lib\\site-packages\\tensorflow\\__init__.py\", line 50, in __getattr__\n",
      "    module = self._load()\n",
      "  File \"C:\\Users\\HOCUSPOCUS\\Anaconda3\\lib\\site-packages\\tensorflow\\__init__.py\", line 44, in _load\n",
      "    module = _importlib.import_module(self.__name__)\n",
      "  File \"C:\\Users\\HOCUSPOCUS\\Anaconda3\\lib\\importlib\\__init__.py\", line 127, in import_module\n",
      "    return _bootstrap._gcd_import(name[level:], package, level)\n",
      "  File \"<frozen importlib._bootstrap>\", line 1006, in _gcd_import\n",
      "  File \"<frozen importlib._bootstrap>\", line 983, in _find_and_load\n",
      "  File \"<frozen importlib._bootstrap>\", line 953, in _find_and_load_unlocked\n",
      "  File \"<frozen importlib._bootstrap>\", line 219, in _call_with_frames_removed\n",
      "  File \"<frozen importlib._bootstrap>\", line 1006, in _gcd_import\n",
      "  File \"<frozen importlib._bootstrap>\", line 983, in _find_and_load\n",
      "  File \"<frozen importlib._bootstrap>\", line 967, in _find_and_load_unlocked\n",
      "  File \"<frozen importlib._bootstrap>\", line 677, in _load_unlocked\n",
      "  File \"<frozen importlib._bootstrap_external>\", line 728, in exec_module\n",
      "  File \"<frozen importlib._bootstrap>\", line 219, in _call_with_frames_removed\n",
      "  File \"C:\\Users\\HOCUSPOCUS\\Anaconda3\\lib\\site-packages\\tensorflow_core\\__init__.py\", line 42, in <module>\n",
      "    from . _api.v2 import audio\n",
      "  File \"C:\\Users\\HOCUSPOCUS\\Anaconda3\\lib\\site-packages\\tensorflow_core\\_api\\v2\\audio\\__init__.py\", line 10, in <module>\n",
      "    from tensorflow.python.ops.gen_audio_ops import decode_wav\n",
      "  File \"C:\\Users\\HOCUSPOCUS\\Anaconda3\\lib\\site-packages\\tensorflow_core\\python\\ops\\gen_audio_ops.py\", line 9, in <module>\n",
      "    from tensorflow.python import pywrap_tensorflow as _pywrap_tensorflow\n",
      "  File \"C:\\Users\\HOCUSPOCUS\\Anaconda3\\lib\\site-packages\\tensorflow\\__init__.py\", line 50, in __getattr__\n",
      "    module = self._load()\n",
      "  File \"C:\\Users\\HOCUSPOCUS\\Anaconda3\\lib\\site-packages\\tensorflow\\__init__.py\", line 44, in _load\n",
      "    module = _importlib.import_module(self.__name__)\n",
      "  File \"C:\\Users\\HOCUSPOCUS\\Anaconda3\\lib\\importlib\\__init__.py\", line 127, in import_module\n",
      "    return _bootstrap._gcd_import(name[level:], package, level)\n",
      "  File \"C:\\Users\\HOCUSPOCUS\\Anaconda3\\lib\\site-packages\\tensorflow_core\\python\\__init__.py\", line 49, in <module>\n",
      "    from tensorflow.python import pywrap_tensorflow\n",
      "  File \"C:\\Users\\HOCUSPOCUS\\Anaconda3\\lib\\site-packages\\tensorflow_core\\python\\pywrap_tensorflow.py\", line 74, in <module>\n",
      "    raise ImportError(msg)\n",
      "ImportError: Traceback (most recent call last):\n",
      "  File \"C:\\Users\\HOCUSPOCUS\\Anaconda3\\lib\\site-packages\\IPython\\core\\interactiveshell.py\", line 3326, in run_code\n",
      "    exec(code_obj, self.user_global_ns, self.user_ns)\n",
      "  File \"<ipython-input-9-82017403d67c>\", line 4, in <module>\n",
      "    for filename in file_count:\n",
      "NameError: name 'file_count' is not defined\n",
      "\n",
      "During handling of the above exception, another exception occurred:\n",
      "\n",
      "Traceback (most recent call last):\n",
      "  File \"C:\\Users\\HOCUSPOCUS\\Anaconda3\\lib\\site-packages\\IPython\\core\\interactiveshell.py\", line 2040, in showtraceback\n",
      "    stb = value._render_traceback_()\n",
      "AttributeError: 'NameError' object has no attribute '_render_traceback_'\n",
      "\n",
      "During handling of the above exception, another exception occurred:\n",
      "\n",
      "Traceback (most recent call last):\n",
      "  File \"C:\\Users\\HOCUSPOCUS\\Anaconda3\\lib\\site-packages\\tensorflow_core\\python\\pywrap_tensorflow.py\", line 58, in <module>\n",
      "    from tensorflow.python.pywrap_tensorflow_internal import *\n",
      "  File \"C:\\Users\\HOCUSPOCUS\\Anaconda3\\lib\\site-packages\\tensorflow_core\\python\\pywrap_tensorflow_internal.py\", line 28, in <module>\n",
      "    _pywrap_tensorflow_internal = swig_import_helper()\n",
      "  File \"C:\\Users\\HOCUSPOCUS\\Anaconda3\\lib\\site-packages\\tensorflow_core\\python\\pywrap_tensorflow_internal.py\", line 24, in swig_import_helper\n",
      "    _mod = imp.load_module('_pywrap_tensorflow_internal', fp, pathname, description)\n",
      "  File \"C:\\Users\\HOCUSPOCUS\\Anaconda3\\lib\\imp.py\", line 242, in load_module\n",
      "    return load_dynamic(name, filename, file)\n",
      "  File \"C:\\Users\\HOCUSPOCUS\\Anaconda3\\lib\\imp.py\", line 342, in load_dynamic\n",
      "    return _load(spec)\n",
      "ImportError: DLL load failed: Kan opgegeven module niet vinden.\n",
      "\n",
      "\n",
      "Failed to load the native TensorFlow runtime.\n",
      "\n",
      "See https://www.tensorflow.org/install/errors\n",
      "\n",
      "for some common reasons and solutions.  Include the entire stack trace\n",
      "above this error message when asking for help.\n"
     ]
    },
    {
     "ename": "NameError",
     "evalue": "name 'file_count' is not defined",
     "output_type": "error",
     "traceback": [
      "\u001b[1;31m---------------------------------------------------------------------------\u001b[0m"
     ]
    }
   ],
   "source": [
    "Data_list=[]\n",
    "label_list=[]\n",
    "\n",
    "for filename in file_count:\n",
    "    file=load_itk(filename);\n",
    "    file=select_scan(file);\n",
    "    Data=normalize(file);\n",
    "    Data_list.append(Data)\n",
    "    label=labeling(filename);\n",
    "    label_list.append(label)\n",
    "#    save(Data,label,filename);"
   ]
  },
  {
   "cell_type": "code",
   "execution_count": 11,
   "metadata": {
    "colab": {},
    "colab_type": "code",
    "id": "jCc6iETvnVsu"
   },
   "outputs": [],
   "source": [
    "#Split training set and test set\n",
    "\n",
    "from sklearn.model_selection import train_test_split\n",
    "\n",
    "Data_train, Data_test, Label_train, Label_test = train_test_split(Data_list, label_list, test_size=0.1, random_state=0)\n",
    "\n",
    "np.save('Data_train.npy',Data_train)\n",
    "np.save('Data_test.npy',Data_test)\n",
    "np.save('Label_train.npy',Label_train)\n",
    "np.save('Label_test.npy',Label_test)"
   ]
  },
  {
   "cell_type": "markdown",
   "metadata": {
    "colab_type": "text",
    "deletable": false,
    "id": "CscfL8BsQLKa",
    "nbgrader": {
     "checksum": "f0f3e11c93d2004ee46bad5992f6c714",
     "grade": false,
     "grade_id": "cell-f4edb7482a0753c4",
     "locked": true,
     "schema_version": 1,
     "solution": false
    }
   },
   "source": [
    "In case you are not able to complete part 1, you can move to part 2 of the session by loading the provided .npy files. In that case you will **not** get any credits for Part 1."
   ]
  },
  {
   "cell_type": "markdown",
   "metadata": {
    "colab_type": "text",
    "deletable": false,
    "editable": false,
    "id": "IsAdLPF2QLKb",
    "nbgrader": {
     "checksum": "687da3742ff425ca860c8478ed7d081a",
     "grade": false,
     "grade_id": "cell-d1fb33251b563bb8",
     "locked": true,
     "schema_version": 1,
     "solution": false
    }
   },
   "source": [
    "# Part 2: Model training and validation"
   ]
  },
  {
   "cell_type": "markdown",
   "metadata": {
    "colab_type": "text",
    "deletable": false,
    "id": "Bhg-XK8SQLKc",
    "nbgrader": {
     "checksum": "3d1de1e961e4781cd28635929dc63f5d",
     "grade": false,
     "grade_id": "cell-a11370ef4ea445ca",
     "locked": true,
     "schema_version": 1,
     "solution": false
    }
   },
   "source": [
    "### Using TFLearn - A High Level API for Tensorflow\n",
    "\n",
    "TFLearn introduces a High-Level API that makes neural network building and training fast and easy. This API is intuitive and fully compatible with Tensorflow.\n",
    "\n",
    "Have a look at the following links for more information about TFLearn: <br>\n",
    "http://tflearn.org/getting_started/ <p>\n",
    "http://tflearn.org/tutorials/quickstart.html <p>\n",
    "http://tflearn.org/models/dnn/ <p>\n",
    "\n",
    "When you install TensorFlow, you automatically also install <b>Tensorboard</b>. During or after training you can use  it  to visualize the network and its performance. For the next tasks, <b>include both the loss and the accuracy graphs for training and also for evaluating the test-set</b>. A simple way to attach these graphs to jupyter notebook is to use Window's Snipping Tool or a similar application. Then display it either using a plain HTML ```<img src>``` or by using ```IPython.display.Image``` and ```IPython.core.display.HTML```. Don't forget to submit the actual image file with your .ipynb as the image is not saved in the notebook, it is just linked.\n",
    "\n",
    "### Some Tips:\n",
    "\n",
    "* Use ```np.load``` to load your data from the previously created .npy binary files.\n",
    "* Use ```reshape``` method when it is needed to import data to the network.\n",
    "* Make your own function to create the model for each network architecture to avoid any model conflicts.\n",
    "* To define a model:\n",
    "```python\n",
    " network = ...(some layers) ...\n",
    " \n",
    " network = regression(network, optimizer='...', loss='...')\n",
    " modelname = DNN(network) \n",
    "```\n",
    "* Use the model's method <b>fit</b> to train your network:\n",
    "```python\n",
    " modelname.fit(X,Y)\n",
    "```\n",
    "\n",
    "* Use the model's method <b>save</b> to save your trained model:\n",
    "```python\n",
    " modelname.save('modelname.tflearn')\n",
    "```\n",
    "\n",
    "\n",
    "* Use the model's methods <b>load</b> to load a model from a previous python session.\n",
    "```python\n",
    " modelname.load('modelname.tflearn') \n",
    "```\n",
    "\n",
    "* If you trained a model in a past python session, you can load the trained model but first you have to <b>define and initialize it again</b>. \n",
    "```python\n",
    " network = ...\n",
    " \n",
    " modelname.DNN(network)    \n",
    " modelname.load('modelname.tflearn')\n",
    " modelname.predict(X)\n",
    "```\n",
    "\n",
    "\n",
    "* Define the directory to store the tensorboard log files by adding it as a parameter when initializing the model.\n",
    "```python\n",
    " tflearn.models.dnn.DNN (network, clip_gradients=5.0, tensorboard_verbose=0, \n",
    " tensorboard_dir='/tmp/tflearn_logs/', checkpoint_path=None, best_checkpoint_path=None, max_checkpoints=None, session=None, best_val_accuracy=0.0)\n",
    "```\n",
    "* Use <b>Tensorbaord</b> to visualize network and performance:\n",
    "Open the command prompt or the anaconda prompt (or a terminal for linux/iOS) and in the working directory type:\n",
    "``` $ tensorboard --logdir='...' ```\n",
    "* You may need to add tensorboard's script to your SYSTEM'S PATH to be able to launch it. \n",
    "* Use model's method <b>predict</b> to evaluate a test sample. \n",
    "```python \n",
    "modelname.predict(X) ```\n",
    "\n",
    "* <b>If you are using the tensorflow 2 it is possible to run tensorboad using the jupyter notebook. </b>\n",
    "In a jupyter cell type: ``` %tensorboard --logdir logs ```.\n",
    "For more information look [here](https://www.tensorflow.org/tensorboard/tensorboard_in_notebooks)\n",
    "\n",
    "* If you have strange tflearn errors, restart the python kernel and <b> re-run only the cells concerning your task you currently work (i.e. run the cells concerning only the current tfmodel). Sometimes you cannot load two different tfmodels at the same python session.</b>.\n",
    "\n",
    "(*) Depending the version of tflearn/tensorflow you are working some commands might differ. Please look online for recent documentation."
   ]
  },
  {
   "cell_type": "markdown",
   "metadata": {
    "colab_type": "text",
    "deletable": false,
    "id": "9CC0lg5eQLKd",
    "nbgrader": {
     "checksum": "8d6d8b691a25bac726e81fb9f5593de9",
     "grade": false,
     "grade_id": "cell-e3701a8ed58211ce",
     "locked": true,
     "schema_version": 1,
     "solution": false
    }
   },
   "source": [
    "### Some Tensorboard examples.\n",
    "Here are some examples of a training session. After each task, expand accuracy and loss graphs and attach them in the next cell of the notebook like we did in this exmple."
   ]
  },
  {
   "cell_type": "markdown",
   "metadata": {
    "colab_type": "text",
    "deletable": false,
    "id": "45fPdtoxQLKe",
    "nbgrader": {
     "checksum": "6d3fdb9f0dbaf340f3a3cb972204745a",
     "grade": false,
     "grade_id": "cell-3399b1ef562b5cc9",
     "locked": true,
     "schema_version": 1,
     "solution": false
    }
   },
   "source": [
    "<img src=\"screenshots_tensorboard/all_graphs.png\">\n",
    "<img src=\"screenshots_tensorboard/accuracy_graph.png\">\n",
    "<img src=\"screenshots_tensorboard/loss_graph.png\">"
   ]
  },
  {
   "cell_type": "markdown",
   "metadata": {
    "colab_type": "text",
    "deletable": false,
    "id": "0cwdnzTYQLKe",
    "nbgrader": {
     "checksum": "839c62166cf59b1aba0ebb12f7e38d6d",
     "grade": false,
     "grade_id": "cell-d5025d3539123bdb",
     "locked": true,
     "schema_version": 1,
     "solution": false
    }
   },
   "source": [
    "### Task 1: Load Data from the numpy binary files (from Part 1)\n",
    "Use the numpy load function to load the data created in the previous part of the exercise. The data has to be reshaped in a specific way (see code below) in order to be compatible with the tflearn neural network input standard. After the data is successfully loaded, plot any patch and its ground truth as image title to verify that data is correctly represented."
   ]
  },
  {
   "cell_type": "code",
   "execution_count": 1,
   "metadata": {},
   "outputs": [],
   "source": [
    "import warnings\n",
    "warnings.simplefilter(action='ignore', category=FutureWarning)\n",
    "import matplotlib.pyplot as plt\n",
    "import numpy as np\n",
    "import glob\n",
    "import tensorflow as tf\n",
    "import SimpleITK as sitk\n",
    "import re"
   ]
  },
  {
   "cell_type": "code",
   "execution_count": 2,
   "metadata": {
    "colab": {},
    "colab_type": "code",
    "id": "YQc2mbupQLKf"
   },
   "outputs": [],
   "source": [
    "# Code for Part 2: Task 1\n",
    "\n",
    "train_data=np.load('/home/nathan/Desktop/WPO4/Data_train.npy')\n",
    "test_data=np.load('/home/nathan/Desktop/WPO4/Data_test.npy')\n",
    "train_label=np.load('/home/nathan/Desktop/WPO4/Label_train.npy')\n",
    "test_label=np.load('/home/nathan/Desktop/WPO4/Label_test.npy')"
   ]
  },
  {
   "cell_type": "code",
   "execution_count": 3,
   "metadata": {
    "colab": {
     "base_uri": "https://localhost:8080/",
     "height": 34
    },
    "colab_type": "code",
    "executionInfo": {
     "elapsed": 3118,
     "status": "ok",
     "timestamp": 1585225742141,
     "user": {
      "displayName": "Natjimo",
      "photoUrl": "https://lh3.googleusercontent.com/a-/AOh14GizbcX8_Par6fx9QL0VZhG82fyBJ_d2xx-uC_L6sg=s64",
      "userId": "10315586945830338155"
     },
     "user_tz": -60
    },
    "id": "24y-lgAI86UI",
    "outputId": "5474ddac-0430-4b26-d509-87607fdbbcd4"
   },
   "outputs": [
    {
     "name": "stdout",
     "output_type": "stream",
     "text": [
      "(2083, 20, 20) (232, 20, 20) (2083, 2) (232, 2)\n"
     ]
    }
   ],
   "source": [
    "print(train_data.shape, test_data.shape, train_label.shape, test_label.shape)"
   ]
  },
  {
   "cell_type": "code",
   "execution_count": null,
   "metadata": {},
   "outputs": [],
   "source": [
    "# plot loaded data with labels\n",
    "plt.figure(figsize=(10,8))\n",
    "plt.gray()\n",
    "plt.subplots_adjust(0,0,1,1,0.01,0.01)\n",
    "for i in range(6):\n",
    "    plt.subplot(5,6,i+1)\n",
    "    plt.imshow(train_data[i])\n",
    "    plt.axis('off')\n",
    "    plt.subtitle(\"lol \")\n",
    "plt.show()"
   ]
  },
  {
   "cell_type": "markdown",
   "metadata": {
    "colab_type": "text",
    "deletable": false,
    "editable": false,
    "id": "iRsqWpZaQLKh",
    "nbgrader": {
     "checksum": "0d1106dc6ff56598fb4c8afd41d9061f",
     "grade": false,
     "grade_id": "cell-0afd5980978d0695",
     "locked": true,
     "schema_version": 1,
     "solution": false
    }
   },
   "source": [
    "### Task 2: Artificial Neural Networks (1 layer)\n",
    "First, lets train our classifier using an artificial neural network with just one layer, a fully connected one. This layer will have *softmax* as activation function. \n",
    "\n",
    "The main advantage of using this activation function is the output range. The range of the outputs will be [0,1] and the sum of all the probabilities will be equal to one. Generally, if the softmax function is used for a  multi-classification model it returns the probabilities of each class and the target class will have the high probability.\n",
    "\n",
    "Using TFLearn, define your model. Use these hyperparameters:\n",
    "* Learning Rate = 1e-4\n",
    "* Batch Size = 8\n",
    "\n",
    "Since the network is small, it is not recommended to use Dropout. Train first for 1-2 epochs to verify that everything works and then train for ~10 epochs. Observe the training and evaluate graphs from Tensorboard to decide when to stop training. Copy these graphs to your notebook and explain what happens.\n",
    "\n",
    "To evaluate the trained model, test it with the test samples and use various performance measures, like <b>confusion matrix</b> for different decision thresholds, <b>precision/recall</b> versus the decision threshold graph and finally plot a **ROC** curve. \n",
    "\n",
    "Explain these graphs and the ROC curve. What role does the decision threshold play and why it is so important? Can we have a single value as the decision threshold? Why?\n",
    "\n",
    "### Tip:\n",
    "* It is highly recommended to write all the tasks in functions and have as an input argument your tfmodel. Then you will be able to re-use them in the next tasks for different tfmodels."
   ]
  },
  {
   "cell_type": "code",
   "execution_count": 5,
   "metadata": {},
   "outputs": [],
   "source": [
    "# Since we are not using a convolutional network, \n",
    "# we can flatten the images to a features vector of pixel values"
   ]
  },
  {
   "cell_type": "code",
   "execution_count": 6,
   "metadata": {},
   "outputs": [
    {
     "name": "stderr",
     "output_type": "stream",
     "text": [
      "Using TensorFlow backend.\n"
     ]
    }
   ],
   "source": [
    "from __future__ import print_function\n",
    "\n",
    "import keras\n",
    "from keras.datasets import mnist\n",
    "from keras.models import Sequential\n",
    "from keras.layers import Dense, Dropout, Activation\n",
    "from keras.optimizers import RMSprop, Adam, SGD"
   ]
  },
  {
   "cell_type": "code",
   "execution_count": null,
   "metadata": {},
   "outputs": [],
   "source": [
    "# First check up with two epochs\n",
    "\n",
    "num_classes = 2\n",
    "    \n",
    "model = Sequential()\n",
    "model.add(Dense(num_classes, activation='softmax', input_dim=400))\n",
    "model.summary()  \n",
    "model.compile(optimizer=Adam(lr=1e-4), loss='binary_crossentropy', metrics=['accuracy'])\n",
    "\n",
    "history = model.fit(X, y, epochs=2, batch_size=8, shuffle=True, validation_split=0.10)\n",
    "\n"
   ]
  },
  {
   "cell_type": "markdown",
   "metadata": {},
   "source": [
    "Everything seems to be working for 2 epochs, we will now continue to run it for a larger amount of epochs."
   ]
  },
  {
   "cell_type": "code",
   "execution_count": 7,
   "metadata": {
    "scrolled": true
   },
   "outputs": [
    {
     "name": "stdout",
     "output_type": "stream",
     "text": [
      "Model: \"sequential_1\"\n",
      "_________________________________________________________________\n",
      "Layer (type)                 Output Shape              Param #   \n",
      "=================================================================\n",
      "dense_1 (Dense)              (None, 2)                 802       \n",
      "=================================================================\n",
      "Total params: 802\n",
      "Trainable params: 802\n",
      "Non-trainable params: 0\n",
      "_________________________________________________________________\n",
      "Train on 1874 samples, validate on 209 samples\n",
      "Epoch 1/30\n",
      "1874/1874 [==============================] - 1s 272us/step - loss: 0.7157 - accuracy: 0.5544 - val_loss: 0.6664 - val_accuracy: 0.7081\n",
      "Epoch 2/30\n",
      "1874/1874 [==============================] - 0s 193us/step - loss: 0.6551 - accuracy: 0.6580 - val_loss: 0.6266 - val_accuracy: 0.7608\n",
      "Epoch 3/30\n",
      "1874/1874 [==============================] - 0s 190us/step - loss: 0.6304 - accuracy: 0.6980 - val_loss: 0.6059 - val_accuracy: 0.7751\n",
      "Epoch 4/30\n",
      "1874/1874 [==============================] - 0s 169us/step - loss: 0.6167 - accuracy: 0.7097 - val_loss: 0.5918 - val_accuracy: 0.8038\n",
      "Epoch 5/30\n",
      "1874/1874 [==============================] - 0s 164us/step - loss: 0.6071 - accuracy: 0.7140 - val_loss: 0.5802 - val_accuracy: 0.8134\n",
      "Epoch 6/30\n",
      "1874/1874 [==============================] - 0s 164us/step - loss: 0.5988 - accuracy: 0.7108 - val_loss: 0.5698 - val_accuracy: 0.8182\n",
      "Epoch 7/30\n",
      "1874/1874 [==============================] - 0s 165us/step - loss: 0.5914 - accuracy: 0.7113 - val_loss: 0.5604 - val_accuracy: 0.8182\n",
      "Epoch 8/30\n",
      "1874/1874 [==============================] - 0s 163us/step - loss: 0.5848 - accuracy: 0.7172 - val_loss: 0.5517 - val_accuracy: 0.8278\n",
      "Epoch 9/30\n",
      "1874/1874 [==============================] - 0s 171us/step - loss: 0.5787 - accuracy: 0.7182 - val_loss: 0.5435 - val_accuracy: 0.8230\n",
      "Epoch 10/30\n",
      "1874/1874 [==============================] - 0s 176us/step - loss: 0.5731 - accuracy: 0.7268 - val_loss: 0.5359 - val_accuracy: 0.8230\n",
      "Epoch 11/30\n",
      "1874/1874 [==============================] - 0s 179us/step - loss: 0.5678 - accuracy: 0.7252 - val_loss: 0.5287 - val_accuracy: 0.8230\n",
      "Epoch 12/30\n",
      "1874/1874 [==============================] - 0s 167us/step - loss: 0.5630 - accuracy: 0.7300 - val_loss: 0.5221 - val_accuracy: 0.8230\n",
      "Epoch 13/30\n",
      "1874/1874 [==============================] - 0s 162us/step - loss: 0.5583 - accuracy: 0.7348 - val_loss: 0.5159 - val_accuracy: 0.8278\n",
      "Epoch 14/30\n",
      "1874/1874 [==============================] - 0s 165us/step - loss: 0.5540 - accuracy: 0.7348 - val_loss: 0.5099 - val_accuracy: 0.8325\n",
      "Epoch 15/30\n",
      "1874/1874 [==============================] - 0s 162us/step - loss: 0.5500 - accuracy: 0.7396 - val_loss: 0.5043 - val_accuracy: 0.8325\n",
      "Epoch 16/30\n",
      "1874/1874 [==============================] - 0s 173us/step - loss: 0.5463 - accuracy: 0.7428 - val_loss: 0.4991 - val_accuracy: 0.8373\n",
      "Epoch 17/30\n",
      "1874/1874 [==============================] - 0s 171us/step - loss: 0.5428 - accuracy: 0.7492 - val_loss: 0.4941 - val_accuracy: 0.8373\n",
      "Epoch 18/30\n",
      "1874/1874 [==============================] - 0s 173us/step - loss: 0.5395 - accuracy: 0.7513 - val_loss: 0.4895 - val_accuracy: 0.8373\n",
      "Epoch 19/30\n",
      "1874/1874 [==============================] - 0s 175us/step - loss: 0.5365 - accuracy: 0.7524 - val_loss: 0.4851 - val_accuracy: 0.8421\n",
      "Epoch 20/30\n",
      "1874/1874 [==============================] - 0s 170us/step - loss: 0.5337 - accuracy: 0.7540 - val_loss: 0.4809 - val_accuracy: 0.8421\n",
      "Epoch 21/30\n",
      "1874/1874 [==============================] - 0s 172us/step - loss: 0.5309 - accuracy: 0.7524 - val_loss: 0.4770 - val_accuracy: 0.8469\n",
      "Epoch 22/30\n",
      "1874/1874 [==============================] - 0s 177us/step - loss: 0.5283 - accuracy: 0.7497 - val_loss: 0.4733 - val_accuracy: 0.8421\n",
      "Epoch 23/30\n",
      "1874/1874 [==============================] - 0s 181us/step - loss: 0.5259 - accuracy: 0.7529 - val_loss: 0.4698 - val_accuracy: 0.8421\n",
      "Epoch 24/30\n",
      "1874/1874 [==============================] - 0s 186us/step - loss: 0.5237 - accuracy: 0.7545 - val_loss: 0.4664 - val_accuracy: 0.8421\n",
      "Epoch 25/30\n",
      "1874/1874 [==============================] - 0s 170us/step - loss: 0.5216 - accuracy: 0.7556 - val_loss: 0.4633 - val_accuracy: 0.8421\n",
      "Epoch 26/30\n",
      "1874/1874 [==============================] - 0s 176us/step - loss: 0.5195 - accuracy: 0.7561 - val_loss: 0.4604 - val_accuracy: 0.8421\n",
      "Epoch 27/30\n",
      "1874/1874 [==============================] - 0s 174us/step - loss: 0.5177 - accuracy: 0.7551 - val_loss: 0.4575 - val_accuracy: 0.8469\n",
      "Epoch 28/30\n",
      "1874/1874 [==============================] - 0s 177us/step - loss: 0.5160 - accuracy: 0.7556 - val_loss: 0.4550 - val_accuracy: 0.8469\n",
      "Epoch 29/30\n",
      "1874/1874 [==============================] - 0s 173us/step - loss: 0.5142 - accuracy: 0.7551 - val_loss: 0.4523 - val_accuracy: 0.8469\n",
      "Epoch 30/30\n",
      "1874/1874 [==============================] - 0s 176us/step - loss: 0.5127 - accuracy: 0.7577 - val_loss: 0.4499 - val_accuracy: 0.8517\n"
     ]
    }
   ],
   "source": [
    "num_classes = 2\n",
    "    \n",
    "model = Sequential()\n",
    "#model.add(Dense(64, activation='relu', input_dim=400))\n",
    "model.add(Dense(num_classes, activation='softmax', input_dim=400))\n",
    "    \n",
    "model.summary()\n",
    "    \n",
    "model.compile(optimizer=Adam(lr=1e-4), loss='binary_crossentropy', metrics=['accuracy'])\n",
    "\n",
    "history = model.fit(X, y, epochs=30, batch_size=8, shuffle=True, validation_split=0.10)"
   ]
  },
  {
   "cell_type": "code",
   "execution_count": 8,
   "metadata": {},
   "outputs": [
    {
     "name": "stdout",
     "output_type": "stream",
     "text": [
      "dict_keys(['val_loss', 'val_accuracy', 'loss', 'accuracy'])\n"
     ]
    },
    {
     "data": {
      "image/png": "[encoded data removed]",
      "text/plain": [
       "<Figure size 576x432 with 1 Axes>"
      ]
     },
     "metadata": {
      "needs_background": "light"
     },
     "output_type": "display_data"
    }
   ],
   "source": [
    "print(history.history.keys())\n",
    "    \n",
    "plt.figure(figsize=(8,6))\n",
    "plt.plot(history.history['accuracy'], label='Training accuracy')\n",
    "plt.plot(history.history['val_accuracy'], label='Validation accuracy')\n",
    "plt.title('Accuracy over time during training')\n",
    "plt.ylabel('Accuracy')\n",
    "plt.xlabel('No. epoch')\n",
    "plt.legend(loc=\"upper left\")\n",
    "plt.show()"
   ]
  },
  {
   "cell_type": "markdown",
   "metadata": {},
   "source": [
    "As can be seen in the accuracy it still tend to rise after 10 Epochs. Therefor a larger amount of epochs can be adviced. However as can be seen the curve does become more stable here and the amount of accuracy gain needs to be balanced with the speed of the model when increasing the amount of epochs. Taking this into account we can conclude that from 10 epochs a sort of plateau level for the accuracy is reached and that this amount would be sufficient. "
   ]
  },
  {
   "cell_type": "code",
   "execution_count": 18,
   "metadata": {},
   "outputs": [],
   "source": [
    "y_pred = model.predict(X_test)"
   ]
  },
  {
   "cell_type": "markdown",
   "metadata": {},
   "source": [
    "As a result of the softmax, y_pred can be interpreted as a probability or confidence of the model's production. However, in order to determine confusion matrix etc, ...  a threshold needs to be applied. The most natural threshold is 0.5."
   ]
  },
  {
   "cell_type": "code",
   "execution_count": 21,
   "metadata": {},
   "outputs": [],
   "source": [
    "#setting a threshold value of 0,5\n",
    "\n",
    "y_pre = y_pred[:,0]>0.5"
   ]
  },
  {
   "cell_type": "code",
   "execution_count": 31,
   "metadata": {},
   "outputs": [
    {
     "name": "stdout",
     "output_type": "stream",
     "text": [
      "number of test cases:  232\n",
      "----------------------------------------------------------------------------------------------------\n",
      "True positive:  36.6 %     False positive:  3.9 %     True negative:  50.9 %     False negative:  8.6 %\n"
     ]
    }
   ],
   "source": [
    "from sklearn.metrics import confusion_matrix\n",
    "\n",
    "# confusion matrix\n",
    "tn, fp, fn, tp = confusion_matrix(y_test[:,0], y_pre).ravel()\n",
    "tot = tn+fp+fn+tp\n",
    "print('number of test cases: ', tot)\n",
    "print('-'*100)\n",
    "print('True positive: ', np.round(tp/tot,3)*100,'%', '    False positive: ', np.round(fp/tot,3)*100,'%',\n",
    "          '    True negative: ', np.round(tn/tot,3)*100,'%', '    False negative: ', np.round(fn/tot,3)*100,'%')"
   ]
  },
  {
   "cell_type": "code",
   "execution_count": 36,
   "metadata": {
    "scrolled": true
   },
   "outputs": [
    {
     "name": "stdout",
     "output_type": "stream",
     "text": [
      "Threshhold value:  0.35\n",
      "----------------------------------------------------------------------------------------------------\n",
      "              precision    recall  f1-score   support\n",
      "\n",
      "           0       0.85      0.88      0.87       127\n",
      "           1       0.85      0.82      0.83       105\n",
      "\n",
      "    accuracy                           0.85       232\n",
      "   macro avg       0.85      0.85      0.85       232\n",
      "weighted avg       0.85      0.85      0.85       232\n",
      "\n",
      "-\n",
      "Threshhold value:  0.4\n",
      "----------------------------------------------------------------------------------------------------\n",
      "              precision    recall  f1-score   support\n",
      "\n",
      "           0       0.86      0.90      0.88       127\n",
      "           1       0.87      0.82      0.84       105\n",
      "\n",
      "    accuracy                           0.86       232\n",
      "   macro avg       0.86      0.86      0.86       232\n",
      "weighted avg       0.86      0.86      0.86       232\n",
      "\n",
      "-\n",
      "Threshhold value:  0.45\n",
      "----------------------------------------------------------------------------------------------------\n",
      "              precision    recall  f1-score   support\n",
      "\n",
      "           0       0.86      0.93      0.89       127\n",
      "           1       0.91      0.82      0.86       105\n",
      "\n",
      "    accuracy                           0.88       232\n",
      "   macro avg       0.88      0.87      0.88       232\n",
      "weighted avg       0.88      0.88      0.88       232\n",
      "\n",
      "-\n",
      "Threshhold value:  0.5\n",
      "----------------------------------------------------------------------------------------------------\n",
      "              precision    recall  f1-score   support\n",
      "\n",
      "           0       0.86      0.93      0.89       127\n",
      "           1       0.90      0.81      0.85       105\n",
      "\n",
      "    accuracy                           0.88       232\n",
      "   macro avg       0.88      0.87      0.87       232\n",
      "weighted avg       0.88      0.88      0.87       232\n",
      "\n",
      "-\n",
      "Threshhold value:  0.55\n",
      "----------------------------------------------------------------------------------------------------\n",
      "              precision    recall  f1-score   support\n",
      "\n",
      "           0       0.83      0.93      0.88       127\n",
      "           1       0.90      0.77      0.83       105\n",
      "\n",
      "    accuracy                           0.86       232\n",
      "   macro avg       0.87      0.85      0.85       232\n",
      "weighted avg       0.86      0.86      0.86       232\n",
      "\n",
      "-\n",
      "Threshhold value:  0.6\n",
      "----------------------------------------------------------------------------------------------------\n",
      "              precision    recall  f1-score   support\n",
      "\n",
      "           0       0.81      0.94      0.87       127\n",
      "           1       0.91      0.73      0.81       105\n",
      "\n",
      "    accuracy                           0.84       232\n",
      "   macro avg       0.86      0.84      0.84       232\n",
      "weighted avg       0.85      0.84      0.84       232\n",
      "\n",
      "-\n",
      "Threshhold value:  65\n",
      "----------------------------------------------------------------------------------------------------\n",
      "              precision    recall  f1-score   support\n",
      "\n",
      "           0       0.55      1.00      0.71       127\n",
      "           1       0.00      0.00      0.00       105\n",
      "\n",
      "    accuracy                           0.55       232\n",
      "   macro avg       0.27      0.50      0.35       232\n",
      "weighted avg       0.30      0.55      0.39       232\n",
      "\n",
      "-\n"
     ]
    },
    {
     "name": "stderr",
     "output_type": "stream",
     "text": [
      "/home/nathan/miniconda3/lib/python3.7/site-packages/sklearn/metrics/_classification.py:1272: UndefinedMetricWarning: Precision and F-score are ill-defined and being set to 0.0 in labels with no predicted samples. Use `zero_division` parameter to control this behavior.\n",
      "  _warn_prf(average, modifier, msg_start, len(result))\n"
     ]
    }
   ],
   "source": [
    "from sklearn.metrics import classification_report\n",
    "\n",
    "# classification report\n",
    "for tr in [0.35,0.40,0.45,0.5,0.55,0.6,65]:\n",
    "    print('Threshhold value: ', tr)\n",
    "    print('-'*100)\n",
    "    y_pre = y_pred[:,0] > tr\n",
    "    print(classification_report(y_test[:,0], y_pre))\n",
    "    recal = recall_score(y_test[:,0], y_pre)\n",
    "    precission = precision_score(y_test[:,0], y_pre)\n",
    "    ratio.append(precission/recal)\n",
    "    print('-')\n",
    "\n",
    "tresh = [0.35,0.40,0.45,0.5,0.55,0.6,65]\n",
    "print(ratio)\n",
    "print(tresh)"
   ]
  },
  {
   "cell_type": "markdown",
   "metadata": {},
   "source": [
    "A\tdecision\tmaking\tthreshold\tis\tthe\tvalue\tof\tthe\tdecision\tmaking\tvariable\tat\twhich\tthe\t\n",
    "decision\tis\tmade.The highest accuracy can be found at a threshold of 0.5 and 0.45. We see that for higher threshhold values the accuracy quickly drops.For lower threshold values the accuracy doesn't drop as fast. "
   ]
  },
  {
   "cell_type": "code",
   "execution_count": null,
   "metadata": {},
   "outputs": [],
   "source": [
    "plt.title('Precission recall - ratio')\n",
    "plt.plot(tresh, ratio, 'b', label = 'precission/recal ratio' )\n",
    "plt.legend(loc = 'lower right')\n",
    "\n",
    "plt.xlim([0.3, 0.7])\n",
    "plt.ylim([0, 1.5])\n",
    "plt.ylabel('Precission/recall ratio')\n",
    "plt.xlabel('Thresholds')\n",
    "plt.show()"
   ]
  },
  {
   "cell_type": "markdown",
   "metadata": {},
   "source": [
    "Precision and recall are two extremely important model evaluation metrics. While precision refers to the percentage of your results which are relevant, recall refers to the percentage of total relevant results correctly classified by your algorithm. High precision relates to a low false positive rate, and high recall relates to a low false negative rate. High values for both depict a high accurate classifier. This is the case for the threshold values of 0,5"
   ]
  },
  {
   "cell_type": "code",
   "execution_count": 41,
   "metadata": {},
   "outputs": [
    {
     "data": {
      "image/png": "[encoded data removed]",
      "text/plain": [
       "<Figure size 792x432 with 1 Axes>"
      ]
     },
     "metadata": {
      "needs_background": "light"
     },
     "output_type": "display_data"
    }
   ],
   "source": [
    "from sklearn.metrics import roc_curve\n",
    "import sklearn.metrics as metrics\n",
    "\n",
    "# ROC curve\n",
    "fpr, tpr, thresholds = roc_curve(y_test[:,0], y_pre)\n",
    "\n",
    "roc_auc = metrics.auc(fpr, tpr)\n",
    "\n",
    "# plot the ROC curve\n",
    "plt.rcParams['figure.figsize'] = [11, 6]\n",
    "plt.title('Receiver Operating Characteristic')\n",
    "plt.plot(fpr, tpr, 'b', label = 'AUC = %0.2f' % roc_auc)\n",
    "plt.legend(loc = 'lower right')\n",
    "plt.plot([0, 1], [0, 1],'r--')\n",
    "plt.xlim([0, 1])\n",
    "plt.ylim([0, 1])\n",
    "plt.ylabel('True Positive Rate')\n",
    "plt.xlabel('False Positive Rate')\n",
    "plt.show()"
   ]
  },
  {
   "cell_type": "markdown",
   "metadata": {},
   "source": [
    "The computed ROC-curve lies on the diagonal line. Which means that it has a very low accuracy. One could as well guess instead of using the model. Is this correct? "
   ]
  },
  {
   "cell_type": "markdown",
   "metadata": {
    "colab_type": "text",
    "deletable": false,
    "editable": false,
    "id": "IXmmnD1SQLKm",
    "nbgrader": {
     "checksum": "729112bb739cb27832f2c27f1d3d3c5a",
     "grade": false,
     "grade_id": "cell-ec3cbbcde6634b2d",
     "locked": true,
     "schema_version": 1,
     "solution": false
    }
   },
   "source": [
    "### Task 3: Test the model\n",
    "Use **predict** method to test a single test sample. Plot the patch and include in the title its ground truth and the prediction. Now, test all the test samples using a for loop and print the accuracy for a decision threshold of 0.5. Additionally, print the **confusion matrix** for the same decision threshold and comment on your findings. Do you think it's necessary to investigate our system's performance by setting different decision thresholds? What performance measurement should we use?"
   ]
  },
  {
   "cell_type": "markdown",
   "metadata": {
    "colab_type": "text",
    "deletable": false,
    "editable": false,
    "id": "6laNfo-XQLKq",
    "nbgrader": {
     "checksum": "c2d112b399d5f76d26eb16384424a219",
     "grade": false,
     "grade_id": "cell-bfdd83f2ba53424c",
     "locked": true,
     "schema_version": 1,
     "solution": false
    }
   },
   "source": [
    "Print the ROC curve and comment."
   ]
  },
  {
   "cell_type": "markdown",
   "metadata": {
    "colab_type": "text",
    "collapsed": true,
    "id": "fQuFr7NrQLKq"
   },
   "source": [
    "No its not necessary to investigate different thresholds, 0.5 should be the optimal choice. As we have seen in the previous tast 0.5 conducts into the highest accuracy wich is a good measure. Since we are detecting lung cancer it may also be interesting to minimize false negatives."
   ]
  },
  {
   "cell_type": "markdown",
   "metadata": {},
   "source": [
    "Volgens mij is wat ze hier vragen ook exact wat je hierboven gedaan hebt? \n",
    "Maar was dat voor 1 test sample en dan voor meer dan 1? Want ge hebt direct nen predict gedaan op X_test? zijn dat niet direct alle testsamples dan? "
   ]
  },
  {
   "cell_type": "markdown",
   "metadata": {
    "colab_type": "text",
    "deletable": false,
    "editable": false,
    "id": "MG8e8uxyQLKu",
    "nbgrader": {
     "checksum": "d82ad9587727760dd790c5846e9ba05f",
     "grade": false,
     "grade_id": "cell-ec462a6ad2168c48",
     "locked": true,
     "schema_version": 1,
     "solution": false
    }
   },
   "source": [
    "### Task 4.1: Artificial Neural Networks (3 layers) - Let's go deep!\n",
    "\n",
    "Let's try 3 fully-connected layers using **sigmoid** activation function. Choose different values for the learning rate, number of epochs and batch size (e.g. 10, 20, 30...). \n",
    "\n",
    "Here is an example network but you are free to choose your own network.\n",
    "* 1st FC with 80 neurons, sigmoid/relu\n",
    "* 2nd FC with 40 neurons, sigmoid/relu\n",
    "* 3rd FC with 2 neurons and softmax\n",
    "* optimizer: sgd or adam or ...\n",
    "\n",
    "Explain your network's architecture and **test** your system as you did for the previous simple neural network. What do you observation? Print some graphs which indicate **underfitting** and **overfitting**. "
   ]
  },
  {
   "cell_type": "markdown",
   "metadata": {},
   "source": [
    "Underfitting occurs at the start of the training, when the the model doesn't fit that data properly yet. \n",
    "Overfitting occurs when the training goes on for too long and the model fits the traininng data too good,resulting in a higher training accuracy but lower validation accuracy. Overfitting will influence the generalization of the model. The model will give an almost perfect fit on the given test data but will probably fail once it is used for new real world unseen data."
   ]
  },
  {
   "cell_type": "code",
   "execution_count": 7,
   "metadata": {
    "colab": {},
    "colab_type": "code",
    "id": "dpE2Qdz4QLKv"
   },
   "outputs": [
    {
     "name": "stdout",
     "output_type": "stream",
     "text": [
      "Model: \"sequential_1\"\n",
      "_________________________________________________________________\n",
      "Layer (type)                 Output Shape              Param #   \n",
      "=================================================================\n",
      "dense_1 (Dense)              (None, 80)                32080     \n",
      "_________________________________________________________________\n",
      "dense_2 (Dense)              (None, 40)                3240      \n",
      "_________________________________________________________________\n",
      "dense_3 (Dense)              (None, 2)                 82        \n",
      "=================================================================\n",
      "Total params: 35,402\n",
      "Trainable params: 35,402\n",
      "Non-trainable params: 0\n",
      "_________________________________________________________________\n"
     ]
    }
   ],
   "source": [
    "# Code for Part 2: Task 4.1\n",
    "num_classes = 2\n",
    "    \n",
    "model = Sequential()\n",
    "model.add(Dense(80, activation='sigmoid', input_dim=400))\n",
    "model.add(Dense(40, activation='sigmoid'))\n",
    "model.add(Dense(num_classes, activation='softmax'))\n",
    "    \n",
    "model.summary()\n",
    "    \n",
    "model.compile(optimizer=Adam(lr=1e-4), loss='binary_crossentropy', metrics=['accuracy'])"
   ]
  },
  {
   "cell_type": "code",
   "execution_count": 8,
   "metadata": {
    "scrolled": true
   },
   "outputs": [
    {
     "name": "stdout",
     "output_type": "stream",
     "text": [
      "Train on 1874 samples, validate on 209 samples\n",
      "Epoch 1/30\n",
      "1874/1874 [==============================] - 1s 335us/step - loss: 0.6761 - accuracy: 0.6009 - val_loss: 0.6360 - val_accuracy: 0.7656\n",
      "Epoch 2/30\n",
      "1874/1874 [==============================] - 0s 207us/step - loss: 0.6362 - accuracy: 0.7129 - val_loss: 0.5948 - val_accuracy: 0.7847\n",
      "Epoch 3/30\n",
      "1874/1874 [==============================] - 0s 214us/step - loss: 0.6088 - accuracy: 0.7220 - val_loss: 0.5675 - val_accuracy: 0.7656\n",
      "Epoch 4/30\n",
      "1874/1874 [==============================] - 0s 213us/step - loss: 0.5899 - accuracy: 0.7161 - val_loss: 0.5411 - val_accuracy: 0.7656\n",
      "Epoch 5/30\n",
      "1874/1874 [==============================] - 0s 222us/step - loss: 0.5771 - accuracy: 0.7177 - val_loss: 0.5220 - val_accuracy: 0.7703\n",
      "Epoch 6/30\n",
      "1874/1874 [==============================] - 0s 230us/step - loss: 0.5674 - accuracy: 0.7166 - val_loss: 0.5135 - val_accuracy: 0.7703\n",
      "Epoch 7/30\n",
      "1874/1874 [==============================] - 0s 218us/step - loss: 0.5590 - accuracy: 0.7150 - val_loss: 0.4905 - val_accuracy: 0.7895\n",
      "Epoch 8/30\n",
      "1874/1874 [==============================] - 0s 209us/step - loss: 0.5516 - accuracy: 0.7273 - val_loss: 0.4817 - val_accuracy: 0.7847\n",
      "Epoch 9/30\n",
      "1874/1874 [==============================] - 0s 210us/step - loss: 0.5451 - accuracy: 0.7327 - val_loss: 0.4731 - val_accuracy: 0.7943\n",
      "Epoch 10/30\n",
      "1874/1874 [==============================] - 0s 213us/step - loss: 0.5384 - accuracy: 0.7343 - val_loss: 0.4659 - val_accuracy: 0.7943\n",
      "Epoch 11/30\n",
      "1874/1874 [==============================] - 0s 207us/step - loss: 0.5325 - accuracy: 0.7359 - val_loss: 0.4580 - val_accuracy: 0.7943\n",
      "Epoch 12/30\n",
      "1874/1874 [==============================] - 0s 206us/step - loss: 0.5275 - accuracy: 0.7401 - val_loss: 0.4460 - val_accuracy: 0.7943\n",
      "Epoch 13/30\n",
      "1874/1874 [==============================] - 0s 204us/step - loss: 0.5218 - accuracy: 0.7385 - val_loss: 0.4409 - val_accuracy: 0.8038\n",
      "Epoch 14/30\n",
      "1874/1874 [==============================] - 0s 211us/step - loss: 0.5177 - accuracy: 0.7428 - val_loss: 0.4374 - val_accuracy: 0.8230\n",
      "Epoch 15/30\n",
      "1874/1874 [==============================] - 0s 209us/step - loss: 0.5138 - accuracy: 0.7444 - val_loss: 0.4274 - val_accuracy: 0.8134\n",
      "Epoch 16/30\n",
      "1874/1874 [==============================] - 0s 222us/step - loss: 0.5100 - accuracy: 0.7487 - val_loss: 0.4293 - val_accuracy: 0.8421\n",
      "Epoch 17/30\n",
      "1874/1874 [==============================] - 0s 225us/step - loss: 0.5079 - accuracy: 0.7487 - val_loss: 0.4221 - val_accuracy: 0.8373\n",
      "Epoch 18/30\n",
      "1874/1874 [==============================] - 0s 208us/step - loss: 0.5043 - accuracy: 0.7513 - val_loss: 0.4175 - val_accuracy: 0.8421\n",
      "Epoch 19/30\n",
      "1874/1874 [==============================] - 0s 210us/step - loss: 0.5024 - accuracy: 0.7561 - val_loss: 0.4115 - val_accuracy: 0.8421\n",
      "Epoch 20/30\n",
      "1874/1874 [==============================] - 0s 208us/step - loss: 0.4996 - accuracy: 0.7567 - val_loss: 0.4141 - val_accuracy: 0.8421\n",
      "Epoch 21/30\n",
      "1874/1874 [==============================] - 0s 212us/step - loss: 0.4980 - accuracy: 0.7545 - val_loss: 0.4065 - val_accuracy: 0.8469\n",
      "Epoch 22/30\n",
      "1874/1874 [==============================] - 0s 205us/step - loss: 0.4966 - accuracy: 0.7540 - val_loss: 0.4093 - val_accuracy: 0.8469\n",
      "Epoch 23/30\n",
      "1874/1874 [==============================] - 0s 211us/step - loss: 0.4947 - accuracy: 0.7577 - val_loss: 0.4028 - val_accuracy: 0.8421\n",
      "Epoch 24/30\n",
      "1874/1874 [==============================] - 0s 206us/step - loss: 0.4932 - accuracy: 0.7567 - val_loss: 0.3998 - val_accuracy: 0.8421\n",
      "Epoch 25/30\n",
      "1874/1874 [==============================] - 0s 210us/step - loss: 0.4915 - accuracy: 0.7609 - val_loss: 0.3976 - val_accuracy: 0.8421\n",
      "Epoch 26/30\n",
      "1874/1874 [==============================] - 0s 208us/step - loss: 0.4901 - accuracy: 0.7588 - val_loss: 0.4023 - val_accuracy: 0.8517\n",
      "Epoch 27/30\n",
      "1874/1874 [==============================] - 0s 223us/step - loss: 0.4894 - accuracy: 0.7615 - val_loss: 0.3971 - val_accuracy: 0.8421\n",
      "Epoch 28/30\n",
      "1874/1874 [==============================] - 0s 218us/step - loss: 0.4882 - accuracy: 0.7593 - val_loss: 0.3952 - val_accuracy: 0.8421\n",
      "Epoch 29/30\n",
      "1874/1874 [==============================] - 0s 209us/step - loss: 0.4869 - accuracy: 0.7583 - val_loss: 0.4008 - val_accuracy: 0.8469\n",
      "Epoch 30/30\n",
      "1874/1874 [==============================] - 0s 205us/step - loss: 0.4858 - accuracy: 0.7604 - val_loss: 0.3954 - val_accuracy: 0.8469\n"
     ]
    }
   ],
   "source": [
    "history = model.fit(X, y, epochs=50, batch_size=8, shuffle=True, validation_split=0.2)"
   ]
  },
  {
   "cell_type": "code",
   "execution_count": 9,
   "metadata": {},
   "outputs": [
    {
     "name": "stdout",
     "output_type": "stream",
     "text": [
      "dict_keys(['val_loss', 'val_accuracy', 'loss', 'accuracy'])\n"
     ]
    },
    {
     "data": {
      "image/png": "[encoded data removed]",
      "text/plain": [
       "<Figure size 576x432 with 1 Axes>"
      ]
     },
     "metadata": {
      "needs_background": "light"
     },
     "output_type": "display_data"
    }
   ],
   "source": [
    "print(history.history.keys())\n",
    "    \n",
    "plt.figure(figsize=(8,6))\n",
    "plt.plot(history.history['accuracy'], label='Training accuracy')\n",
    "plt.plot(history.history['val_accuracy'], label='Validation accuracy')\n",
    "plt.title('Accuracy over time during training')\n",
    "plt.ylabel('Accuracy')\n",
    "plt.xlabel('No. epoch')\n",
    "plt.legend(loc=\"upper left\")\n",
    "plt.show();"
   ]
  },
  {
   "cell_type": "markdown",
   "metadata": {},
   "source": [
    "To evaluate over- and underfitting a simulation with a lot of epochs was made. As can be seen for few amount of epochs\n",
    "the validation accuracy and training accuracy are off. A an intermediate amount the two graphs tend to go togheter and for a large amount of epochs\n",
    "the grapsh once again diverge. In the beginning underfitting is done and the training is not sufficient when compared to validation.\n",
    "At the end the model is overfit. It can coop good with the training data but once validated on new data one can see that it starts to fail. "
   ]
  },
  {
   "cell_type": "markdown",
   "metadata": {},
   "source": [
    "Ik weet wel niet helemaal of de grafieken juist zijn. Ik krijg als ik het run op de data die zei gegeven hadden grafieken die in accuracy voor beide mooi op elkaar liggen?"
   ]
  },
  {
   "cell_type": "markdown",
   "metadata": {
    "colab_type": "text",
    "deletable": false,
    "editable": false,
    "id": "q4qU1DjqQLKx",
    "nbgrader": {
     "checksum": "822f2a649d5f2f9cebf5cfb29e5681f1",
     "grade": false,
     "grade_id": "cell-2f4b91a56afdcffa",
     "locked": true,
     "schema_version": 1,
     "solution": false
    }
   },
   "source": [
    "### Task 4.2: Relu!\n",
    "RELU = Rectified Linear Unit\n",
    "\n",
    "Let's try the same network but using RELU instead of sigmoid now."
   ]
  },
  {
   "cell_type": "code",
   "execution_count": null,
   "metadata": {},
   "outputs": [],
   "source": [
    "# there shouldn't be that mch different with different non-linear functions."
   ]
  },
  {
   "cell_type": "code",
   "execution_count": null,
   "metadata": {},
   "outputs": [],
   "source": [
    "num_classes = 2\n",
    "    \n",
    "model = Sequential()\n",
    "model.add(Dense(80, activation='relu', input_dim=400))\n",
    "model.add(Dense(40, activation='relu'))\n",
    "model.add(Dense(num_classes, activation='softmax'))\n",
    "    \n",
    "model.summary()\n",
    "    \n",
    "model.compile(optimizer=Adam(lr=1e-4), loss='binary_crossentropy', metrics=['accuracy'])"
   ]
  },
  {
   "cell_type": "code",
   "execution_count": 50,
   "metadata": {
    "scrolled": true
   },
   "outputs": [
    {
     "name": "stdout",
     "output_type": "stream",
     "text": [
      "Train on 1874 samples, validate on 209 samples\n",
      "Epoch 1/30\n",
      "1874/1874 [==============================] - 0s 219us/step - loss: 0.4160 - accuracy: 0.8175 - val_loss: 0.3517 - val_accuracy: 0.8900\n",
      "Epoch 2/30\n",
      "1874/1874 [==============================] - 0s 208us/step - loss: 0.4116 - accuracy: 0.8228 - val_loss: 0.3456 - val_accuracy: 0.8947\n",
      "Epoch 3/30\n",
      "1874/1874 [==============================] - 0s 212us/step - loss: 0.4056 - accuracy: 0.8255 - val_loss: 0.3389 - val_accuracy: 0.8900\n",
      "Epoch 4/30\n",
      "1874/1874 [==============================] - 0s 213us/step - loss: 0.4011 - accuracy: 0.8250 - val_loss: 0.3416 - val_accuracy: 0.8995\n",
      "Epoch 5/30\n",
      "1874/1874 [==============================] - 0s 218us/step - loss: 0.3960 - accuracy: 0.8303 - val_loss: 0.3375 - val_accuracy: 0.8995\n",
      "Epoch 6/30\n",
      "1874/1874 [==============================] - 0s 218us/step - loss: 0.3913 - accuracy: 0.8319 - val_loss: 0.3375 - val_accuracy: 0.8900\n",
      "Epoch 7/30\n",
      "1874/1874 [==============================] - 0s 216us/step - loss: 0.3865 - accuracy: 0.8340 - val_loss: 0.3333 - val_accuracy: 0.8995\n",
      "Epoch 8/30\n",
      "1874/1874 [==============================] - 0s 218us/step - loss: 0.3821 - accuracy: 0.8372 - val_loss: 0.3346 - val_accuracy: 0.8900\n",
      "Epoch 9/30\n",
      "1874/1874 [==============================] - 0s 236us/step - loss: 0.3785 - accuracy: 0.8362 - val_loss: 0.3306 - val_accuracy: 0.8995\n",
      "Epoch 10/30\n",
      "1874/1874 [==============================] - 0s 226us/step - loss: 0.3737 - accuracy: 0.8410 - val_loss: 0.3292 - val_accuracy: 0.8947\n",
      "Epoch 11/30\n",
      "1874/1874 [==============================] - 0s 217us/step - loss: 0.3705 - accuracy: 0.8415 - val_loss: 0.3323 - val_accuracy: 0.8947\n",
      "Epoch 12/30\n",
      "1874/1874 [==============================] - 0s 219us/step - loss: 0.3658 - accuracy: 0.8490 - val_loss: 0.3387 - val_accuracy: 0.8900\n",
      "Epoch 13/30\n",
      "1874/1874 [==============================] - 0s 214us/step - loss: 0.3627 - accuracy: 0.8485 - val_loss: 0.3363 - val_accuracy: 0.8947\n",
      "Epoch 14/30\n",
      "1874/1874 [==============================] - 0s 213us/step - loss: 0.3593 - accuracy: 0.8538 - val_loss: 0.3367 - val_accuracy: 0.8900\n",
      "Epoch 15/30\n",
      "1874/1874 [==============================] - 0s 211us/step - loss: 0.3554 - accuracy: 0.8549 - val_loss: 0.3360 - val_accuracy: 0.8852\n",
      "Epoch 16/30\n",
      "1874/1874 [==============================] - 0s 220us/step - loss: 0.3518 - accuracy: 0.8554 - val_loss: 0.3383 - val_accuracy: 0.8947\n",
      "Epoch 17/30\n",
      "1874/1874 [==============================] - 0s 217us/step - loss: 0.3483 - accuracy: 0.8565 - val_loss: 0.3348 - val_accuracy: 0.8995\n",
      "Epoch 18/30\n",
      "1874/1874 [==============================] - 0s 221us/step - loss: 0.3452 - accuracy: 0.8575 - val_loss: 0.3423 - val_accuracy: 0.8900\n",
      "Epoch 19/30\n",
      "1874/1874 [==============================] - 0s 225us/step - loss: 0.3422 - accuracy: 0.8565 - val_loss: 0.3388 - val_accuracy: 0.8900\n",
      "Epoch 20/30\n",
      "1874/1874 [==============================] - 0s 249us/step - loss: 0.3391 - accuracy: 0.8591 - val_loss: 0.3476 - val_accuracy: 0.8995\n",
      "Epoch 21/30\n",
      "1874/1874 [==============================] - 0s 224us/step - loss: 0.3363 - accuracy: 0.8591 - val_loss: 0.3469 - val_accuracy: 0.8900\n",
      "Epoch 22/30\n",
      "1874/1874 [==============================] - 0s 223us/step - loss: 0.3334 - accuracy: 0.8597 - val_loss: 0.3402 - val_accuracy: 0.8900\n",
      "Epoch 23/30\n",
      "1874/1874 [==============================] - 0s 222us/step - loss: 0.3310 - accuracy: 0.8618 - val_loss: 0.3451 - val_accuracy: 0.8947\n",
      "Epoch 24/30\n",
      "1874/1874 [==============================] - 0s 220us/step - loss: 0.3282 - accuracy: 0.8629 - val_loss: 0.3579 - val_accuracy: 0.8947\n",
      "Epoch 25/30\n",
      "1874/1874 [==============================] - 0s 224us/step - loss: 0.3258 - accuracy: 0.8629 - val_loss: 0.3466 - val_accuracy: 0.8995\n",
      "Epoch 26/30\n",
      "1874/1874 [==============================] - 0s 222us/step - loss: 0.3235 - accuracy: 0.8645 - val_loss: 0.3519 - val_accuracy: 0.8947\n",
      "Epoch 27/30\n",
      "1874/1874 [==============================] - 0s 213us/step - loss: 0.3205 - accuracy: 0.8661 - val_loss: 0.3452 - val_accuracy: 0.9043\n",
      "Epoch 28/30\n",
      "1874/1874 [==============================] - 0s 214us/step - loss: 0.3183 - accuracy: 0.8666 - val_loss: 0.3439 - val_accuracy: 0.9043\n",
      "Epoch 29/30\n",
      "1874/1874 [==============================] - 0s 219us/step - loss: 0.3166 - accuracy: 0.8677 - val_loss: 0.3609 - val_accuracy: 0.8995\n",
      "Epoch 30/30\n",
      "1874/1874 [==============================] - 0s 250us/step - loss: 0.3142 - accuracy: 0.8671 - val_loss: 0.3480 - val_accuracy: 0.9043\n"
     ]
    }
   ],
   "source": [
    "history = model.fit(X, y, epochs=30, batch_size=8, shuffle=True, validation_split=0.10)"
   ]
  },
  {
   "cell_type": "code",
   "execution_count": null,
   "metadata": {},
   "outputs": [],
   "source": [
    "print(history.history.keys())\n",
    "    \n",
    "plt.figure(figsize=(8,6))\n",
    "plt.plot(history.history['accuracy'], label='Training accuracy')\n",
    "plt.plot(history.history['val_accuracy'], label='Validation accuracy')\n",
    "plt.title('Accuracy over time during training')\n",
    "plt.ylabel('Accuracy')\n",
    "plt.xlabel('No. epoch')\n",
    "plt.legend(loc=\"upper left\")\n",
    "plt.show();"
   ]
  },
  {
   "cell_type": "markdown",
   "metadata": {},
   "source": [
    "For the relu activation function it can be seen that the model learns much faster compared to the sigmoid activation function. This is because the sigmoid curve kills gradients and does not give fast and adequate feedback to the weights. While the RELU activation function trains much faster and so accelerates the convergence of the model."
   ]
  },
  {
   "cell_type": "markdown",
   "metadata": {
    "colab_type": "text",
    "deletable": false,
    "editable": false,
    "id": "iNb06ij6QLK1",
    "nbgrader": {
     "checksum": "9daeec5dcb3d381740aeac3613a7b8ba",
     "grade": false,
     "grade_id": "cell-a6394cf303cb2289",
     "locked": true,
     "schema_version": 1,
     "solution": false
    }
   },
   "source": [
    "### Task 4.3: Dropout!\n",
    "Use dropout. Some recommended values to investigate are 0.9, 0.5, 0.1. Explain the results."
   ]
  },
  {
   "cell_type": "markdown",
   "metadata": {
    "colab_type": "text",
    "id": "2n4b4LjKQLK2"
   },
   "source": [
    "ANSWER HERE"
   ]
  },
  {
   "cell_type": "code",
   "execution_count": null,
   "metadata": {},
   "outputs": [],
   "source": [
    "# there should be less overfitting with more dropout"
   ]
  },
  {
   "cell_type": "code",
   "execution_count": 55,
   "metadata": {
    "colab": {},
    "colab_type": "code",
    "id": "r0Vr6XDtQLK3"
   },
   "outputs": [],
   "source": [
    "# Code for Part 2: Task 4.3\n",
    "def dropout(drop):\n",
    "    num_classes = 2\n",
    "    \n",
    "    model = Sequential()\n",
    "    model.add(Dense(80, activation='sigmoid', input_dim=400))\n",
    "    model.add(Dropout(drop))\n",
    "    model.add(Dense(40, activation='sigmoid'))\n",
    "    model.add(Dropout(drop))\n",
    "    model.add(Dense(num_classes, activation='softmax'))\n",
    "    \n",
    "    model.summary()\n",
    "    \n",
    "    model.compile(optimizer=Adam(lr=1e-4), loss='binary_crossentropy', metrics=['accuracy'])\n",
    "    \n",
    "    history = model.fit(X, y, epochs=30, batch_size=8, shuffle=True, validation_split=0.10)\n",
    "    \n",
    "    print(history.history.keys())\n",
    "    \n",
    "    plt.figure(figsize=(8,6))\n",
    "    plt.plot(history.history['accuracy'], label='Training accuracy')\n",
    "    plt.plot(history.history['val_accuracy'], label='Validation accuracy')\n",
    "    plt.title('Accuracy over time during training')\n",
    "    plt.ylabel('Accuracy')\n",
    "    plt.xlabel('No. epoch')\n",
    "    plt.legend(loc=\"upper left\")\n",
    "    plt.show();"
   ]
  },
  {
   "cell_type": "code",
   "execution_count": 56,
   "metadata": {
    "scrolled": true
   },
   "outputs": [
    {
     "name": "stdout",
     "output_type": "stream",
     "text": [
      "WARNING:tensorflow:Large dropout rate: 0.9 (>0.5). In TensorFlow 2.x, dropout() uses dropout rate instead of keep_prob. Please ensure that this is intended.\n",
      "WARNING:tensorflow:Large dropout rate: 0.9 (>0.5). In TensorFlow 2.x, dropout() uses dropout rate instead of keep_prob. Please ensure that this is intended.\n",
      "Model: \"sequential_4\"\n",
      "_________________________________________________________________\n",
      "Layer (type)                 Output Shape              Param #   \n",
      "=================================================================\n",
      "dense_7 (Dense)              (None, 80)                32080     \n",
      "_________________________________________________________________\n",
      "dropout_1 (Dropout)          (None, 80)                0         \n",
      "_________________________________________________________________\n",
      "dense_8 (Dense)              (None, 40)                3240      \n",
      "_________________________________________________________________\n",
      "dropout_2 (Dropout)          (None, 40)                0         \n",
      "_________________________________________________________________\n",
      "dense_9 (Dense)              (None, 2)                 82        \n",
      "=================================================================\n",
      "Total params: 35,402\n",
      "Trainable params: 35,402\n",
      "Non-trainable params: 0\n",
      "_________________________________________________________________\n",
      "Train on 1874 samples, validate on 209 samples\n",
      "Epoch 1/30\n",
      "1874/1874 [==============================] - 1s 336us/step - loss: 1.3990 - accuracy: 0.4992 - val_loss: 0.8457 - val_accuracy: 0.4354\n",
      "Epoch 2/30\n",
      "1874/1874 [==============================] - 1s 276us/step - loss: 1.3363 - accuracy: 0.4723 - val_loss: 0.7760 - val_accuracy: 0.4354\n",
      "Epoch 3/30\n",
      "1874/1874 [==============================] - 1s 267us/step - loss: 1.2162 - accuracy: 0.5187 - val_loss: 0.7317 - val_accuracy: 0.4354\n",
      "Epoch 4/30\n",
      "1874/1874 [==============================] - 0s 237us/step - loss: 1.1662 - accuracy: 0.5091 - val_loss: 0.7038 - val_accuracy: 0.4354\n",
      "Epoch 5/30\n",
      "1874/1874 [==============================] - 0s 233us/step - loss: 1.1246 - accuracy: 0.5043 - val_loss: 0.6886 - val_accuracy: 0.4354\n",
      "Epoch 6/30\n",
      "1874/1874 [==============================] - 0s 238us/step - loss: 1.1496 - accuracy: 0.5000 - val_loss: 0.6792 - val_accuracy: 0.7464\n",
      "Epoch 7/30\n",
      "1874/1874 [==============================] - 0s 267us/step - loss: 1.0549 - accuracy: 0.5165 - val_loss: 0.6727 - val_accuracy: 0.7416\n",
      "Epoch 8/30\n",
      "1874/1874 [==============================] - 0s 237us/step - loss: 1.0494 - accuracy: 0.4856 - val_loss: 0.6688 - val_accuracy: 0.7225\n",
      "Epoch 9/30\n",
      "1874/1874 [==============================] - 0s 234us/step - loss: 0.9796 - accuracy: 0.4963 - val_loss: 0.6671 - val_accuracy: 0.6938\n",
      "Epoch 10/30\n",
      "1874/1874 [==============================] - 0s 243us/step - loss: 0.9798 - accuracy: 0.4979 - val_loss: 0.6651 - val_accuracy: 0.6555\n",
      "Epoch 11/30\n",
      "1874/1874 [==============================] - 0s 252us/step - loss: 0.9173 - accuracy: 0.5235 - val_loss: 0.6636 - val_accuracy: 0.6651\n",
      "Epoch 12/30\n",
      "1874/1874 [==============================] - 0s 254us/step - loss: 0.8898 - accuracy: 0.4877 - val_loss: 0.6628 - val_accuracy: 0.6555\n",
      "Epoch 13/30\n",
      "1874/1874 [==============================] - 0s 240us/step - loss: 0.8518 - accuracy: 0.5155 - val_loss: 0.6622 - val_accuracy: 0.6507\n",
      "Epoch 14/30\n",
      "1874/1874 [==============================] - 0s 242us/step - loss: 0.8739 - accuracy: 0.5208 - val_loss: 0.6621 - val_accuracy: 0.6507\n",
      "Epoch 15/30\n",
      "1874/1874 [==============================] - 0s 239us/step - loss: 0.8539 - accuracy: 0.5224 - val_loss: 0.6619 - val_accuracy: 0.6364\n",
      "Epoch 16/30\n",
      "1874/1874 [==============================] - 0s 238us/step - loss: 0.8040 - accuracy: 0.5133 - val_loss: 0.6617 - val_accuracy: 0.6459\n",
      "Epoch 17/30\n",
      "1874/1874 [==============================] - 0s 237us/step - loss: 0.8173 - accuracy: 0.5139 - val_loss: 0.6619 - val_accuracy: 0.6220\n",
      "Epoch 18/30\n",
      "1874/1874 [==============================] - 0s 241us/step - loss: 0.8106 - accuracy: 0.5016 - val_loss: 0.6621 - val_accuracy: 0.6172\n",
      "Epoch 19/30\n",
      "1874/1874 [==============================] - 0s 238us/step - loss: 0.7581 - accuracy: 0.5277 - val_loss: 0.6624 - val_accuracy: 0.6172\n",
      "Epoch 20/30\n",
      "1874/1874 [==============================] - 0s 248us/step - loss: 0.7773 - accuracy: 0.5155 - val_loss: 0.6633 - val_accuracy: 0.6411\n",
      "Epoch 21/30\n",
      "1874/1874 [==============================] - 1s 302us/step - loss: 0.7687 - accuracy: 0.5133 - val_loss: 0.6634 - val_accuracy: 0.6172\n",
      "Epoch 22/30\n",
      "1874/1874 [==============================] - 0s 242us/step - loss: 0.7436 - accuracy: 0.5261 - val_loss: 0.6635 - val_accuracy: 0.6124\n",
      "Epoch 23/30\n",
      "1874/1874 [==============================] - 0s 241us/step - loss: 0.7406 - accuracy: 0.5149 - val_loss: 0.6641 - val_accuracy: 0.6172\n",
      "Epoch 24/30\n",
      "1874/1874 [==============================] - 0s 247us/step - loss: 0.7540 - accuracy: 0.5032 - val_loss: 0.6651 - val_accuracy: 0.6220\n",
      "Epoch 25/30\n",
      "1874/1874 [==============================] - 0s 228us/step - loss: 0.7275 - accuracy: 0.5133 - val_loss: 0.6660 - val_accuracy: 0.6411\n",
      "Epoch 26/30\n",
      "1874/1874 [==============================] - 0s 234us/step - loss: 0.7292 - accuracy: 0.5219 - val_loss: 0.6662 - val_accuracy: 0.6124\n",
      "Epoch 27/30\n",
      "1874/1874 [==============================] - 0s 238us/step - loss: 0.7313 - accuracy: 0.4883 - val_loss: 0.6667 - val_accuracy: 0.6077\n",
      "Epoch 28/30\n",
      "1874/1874 [==============================] - 0s 241us/step - loss: 0.7178 - accuracy: 0.5235 - val_loss: 0.6674 - val_accuracy: 0.6077\n",
      "Epoch 29/30\n",
      "1874/1874 [==============================] - 0s 244us/step - loss: 0.7051 - accuracy: 0.5326 - val_loss: 0.6677 - val_accuracy: 0.6077\n",
      "Epoch 30/30\n",
      "1874/1874 [==============================] - 1s 270us/step - loss: 0.7211 - accuracy: 0.5080 - val_loss: 0.6679 - val_accuracy: 0.6077\n",
      "dict_keys(['val_loss', 'val_accuracy', 'loss', 'accuracy'])\n"
     ]
    },
    {
     "data": {
      "image/png": "[encoded data removed]",
      "text/plain": [
       "<Figure size 576x432 with 1 Axes>"
      ]
     },
     "metadata": {
      "needs_background": "light"
     },
     "output_type": "display_data"
    }
   ],
   "source": [
    "dropout(0.9)"
   ]
  },
  {
   "cell_type": "code",
   "execution_count": null,
   "metadata": {},
   "outputs": [],
   "source": [
    "dropout(0.5)"
   ]
  },
  {
   "cell_type": "code",
   "execution_count": null,
   "metadata": {},
   "outputs": [],
   "source": [
    "dropour(0.1)"
   ]
  },
  {
   "cell_type": "markdown",
   "metadata": {},
   "source": [
    "Using dropout is a  regularisation technique. It randomly drops units during training. The goal is to reduce overfitting and decrease a generalization error. For the values the following scaling was used, 1.0 means no dropout, and 0.0 means no outputs from the layer. It can be clearly see that by increasing dropout level higher accuracy are much faster reached. Also convergence between validation and training accuracy is much faster accomplished."
   ]
  },
  {
   "cell_type": "markdown",
   "metadata": {
    "colab_type": "text",
    "deletable": false,
    "editable": false,
    "id": "o27839aDQLK5",
    "nbgrader": {
     "checksum": "c7c0f2e845aafc10ec8ad052d48e9119",
     "grade": false,
     "grade_id": "cell-2df072bbe1906a59",
     "locked": true,
     "schema_version": 1,
     "solution": false
    }
   },
   "source": [
    "### Task 5. A Convolutional Neural Network\n",
    "\n",
    "#### Model definition\n",
    "\n",
    "input -> conv1 -> pool1 -> conv2 -> fc1 -> fc2 -> softmax\n",
    "* convolution layers: kernel size = 3x3, number of channels = 64, activation function = sigmoid\n",
    "* max-pooling layers: kernel size = 2x2, strides = 2\n",
    "* 1st fully connected: 50 neurons, activation function = sigmoid\n",
    "* 2nd fully connected: 2 neurons, activation function = softmax\n",
    "* optimizer = sgd / adam\n",
    "* use dropout (e.g. 0.5)\n",
    "\n",
    "Like before, measure system's prerfomance and explain."
   ]
  },
  {
   "cell_type": "code",
   "execution_count": null,
   "metadata": {},
   "outputs": [],
   "source": [
    "# input image dimensions\n",
    "img_x, img_y = 400, 400\n",
    "\n",
    "input_shape = (img_x, img_y, 1)\n",
    "\n",
    "model = Sequential()\n",
    "model.add(Conv2D(64, kernel_size=(3, 3), activation='relu'input_shape=input_shape))\n",
    "model.add(MaxPooling2D(pool_size=(2, 2), strides=(2, 2)))\n",
    "model.add(Dropout(0.25))\n",
    "model.add(Dense(50, activation='sigmoid'))\n",
    "model.add(Dropout(0.25))\n",
    "model.add(Dense(num_classes, activation='softmax'))\n",
    "#model.summary()  #waarom nodig?\n",
    "    \n",
    "model.compile(optimizer=Adam(lr=1e-4), loss='binary_crossentropy', metrics=['accuracy'])\n",
    "    \n",
    "history = model.fit(X, y, epochs=30, batch_size=8, shuffle=True, validation_split=0.10)\n",
    "    \n",
    "print(history.history.keys())\n",
    "    \n",
    "plt.figure(figsize=(8,6))\n",
    "plt.plot(history.history['accuracy'], label='Training accuracy')\n",
    "plt.plot(history.history['val_accuracy'], label='Validation accuracy')\n",
    "plt.title('Accuracy over time during training')\n",
    "plt.ylabel('Accuracy')\n",
    "plt.xlabel('No. epoch')\n",
    "plt.legend(loc=\"upper left\")\n",
    "plt.show();"
   ]
  },
  {
   "cell_type": "code",
   "execution_count": 0,
   "metadata": {
    "colab": {},
    "colab_type": "code",
    "id": "CqvcOW2GQLK6"
   },
   "outputs": [],
   "source": [
    "# Code for Part 2: Task 5"
   ]
  },
  {
   "cell_type": "markdown",
   "metadata": {
    "colab_type": "text",
    "deletable": false,
    "editable": false,
    "id": "yDbALwsyQLK9",
    "nbgrader": {
     "checksum": "c7c0f2e845aafc10ec8ad052d48e9119",
     "grade": false,
     "grade_id": "cell-2df072bbe1906a59",
     "locked": true,
     "schema_version": 1,
     "solution": false
    }
   },
   "source": [
    "### Task 6. A Deeper Convolutional Neural Network\n",
    "\n",
    "#### Model definition\n",
    "\n",
    "input -> conv1 -> pool1 -> conv2 -> conv3 -> fc1 -> fc2 -> softmax\n",
    "* convolution layers: kernel size = 5x5, number of channels = 64, activation function = relu\n",
    "* max-pooling layers: kernel size = 2x2, strides = 2\n",
    "* 1st fully connected: 100 neurons, activation function = relu\n",
    "* 2nd fully connected: 2 neurons, activation function = softmax\n",
    "* optimizer = sgd / adam\n",
    "* use dropout (e.g. 0.5)\n",
    "\n",
    "Like before, measure system's prerfomance and explain."
   ]
  },
  {
   "cell_type": "code",
   "execution_count": 0,
   "metadata": {
    "colab": {},
    "colab_type": "code",
    "id": "pOUojMtPQLK-"
   },
   "outputs": [],
   "source": [
    "# Code for Part 2: Task 6\n",
    "model = Sequential()\n",
    "model.add(Conv2D(64, kernel_size=(5, 5), activation='relu'input_shape=input_shape))\n",
    "model.add(MaxPooling2D(pool_size=(2, 2), strides=(2, 2)))\n",
    "model.add(Conv2D(64, (5, 5), activation='relu'))\n",
    "model.add(Conv2D(64, (5, 5), activation='relu'))\n",
    "model.add(Dropout(0.25))\n",
    "model.add(Dense(100, activation='relu'))\n",
    "model.add(Dropout(0.25))\n",
    "model.add(Dense(num_classes, activation='softmax'))\n",
    "#model.summary()  #waarom nodig?\n",
    "    \n",
    "model.compile(optimizer=Adam(lr=1e-4), loss='binary_crossentropy', metrics=['accuracy'])\n",
    "    \n",
    "history = model.fit(X, y, epochs=30, batch_size=8, shuffle=True, validation_split=0.10)\n",
    "    \n",
    "print(history.history.keys())\n",
    "    \n",
    "plt.figure(figsize=(8,6))\n",
    "plt.plot(history.history['accuracy'], label='Training accuracy')\n",
    "plt.plot(history.history['val_accuracy'], label='Validation accuracy')\n",
    "plt.title('Accuracy over time during training')\n",
    "plt.ylabel('Accuracy')\n",
    "plt.xlabel('No. epoch')\n",
    "plt.legend(loc=\"upper left\")\n",
    "plt.show();"
   ]
  },
  {
   "cell_type": "markdown",
   "metadata": {
    "colab_type": "text",
    "deletable": false,
    "editable": false,
    "id": "KkfQm5f2QLLA",
    "nbgrader": {
     "checksum": "c7c0f2e845aafc10ec8ad052d48e9119",
     "grade": false,
     "grade_id": "cell-2df072bbe1906a59",
     "locked": true,
     "schema_version": 1,
     "solution": false
    }
   },
   "source": [
    "### Task 7\n",
    "\n",
    "\n",
    "Comment the network differences between the two convolutional neural networks. Which ones do you think have the strongest impact in the network's perfomance? Justify your answer. \n",
    "\n",
    "An implementation of one or more networks might be necessary to answer this question."
   ]
  },
  {
   "cell_type": "code",
   "execution_count": 0,
   "metadata": {
    "colab": {},
    "colab_type": "code",
    "id": "GBVJqXY3QLLB"
   },
   "outputs": [],
   "source": [
    "\n"
   ]
  },
  {
   "cell_type": "markdown",
   "metadata": {
    "colab_type": "text",
    "id": "uA73KG7EQLLD"
   },
   "source": [
    "ANSWER HERE"
   ]
  },
  {
   "cell_type": "markdown",
   "metadata": {
    "colab_type": "text",
    "deletable": false,
    "editable": false,
    "id": "hOy_WYWbQLLD",
    "nbgrader": {
     "checksum": "0d0ec0155912f600620327325c499bac",
     "grade": false,
     "grade_id": "cell-72468f1cc2255060",
     "locked": true,
     "schema_version": 1,
     "solution": false
    }
   },
   "source": [
    "### (BONUS) Create your own convolution neural network\n",
    "\n",
    "Create your own network and try to increase model's accuracy. You can use different:\n",
    "* size of convolutional kernels\n",
    "* activation functions\n",
    "* optimizers ...\n",
    "***\n",
    "\n",
    "* **Extra task**: Select a different part of the dataset as test-set and repeat the training tasks"
   ]
  },
  {
   "cell_type": "code",
   "execution_count": 0,
   "metadata": {
    "colab": {},
    "colab_type": "code",
    "id": "MDEYjfKKQLLE"
   },
   "outputs": [],
   "source": [
    "# UNET"
   ]
  }
 ],
 "metadata": {
  "anaconda-cloud": {},
  "celltoolbar": "Edit Metadata",
  "colab": {
   "collapsed_sections": [],
   "name": "WPO4_guy.ipynb",
   "provenance": []
  },
  "kernelspec": {
   "display_name": "Python 3",
   "language": "python",
   "name": "python3"
  },
  "language_info": {
   "codemirror_mode": {
    "name": "ipython",
    "version": 3
   },
   "file_extension": ".py",
   "mimetype": "text/x-python",
   "name": "python",
   "nbconvert_exporter": "python",
   "pygments_lexer": "ipython3",
   "version": "3.7.6"
  }
 },
 "nbformat": 4,
 "nbformat_minor": 1
}
